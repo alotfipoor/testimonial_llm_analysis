{
 "cells": [
  {
   "cell_type": "markdown",
   "metadata": {},
   "source": [
    "## Setup"
   ]
  },
  {
   "cell_type": "code",
   "execution_count": 6,
   "metadata": {},
   "outputs": [
    {
     "name": "stderr",
     "output_type": "stream",
     "text": [
      "/tmp/ipykernel_1142/3808366266.py:5: DeprecationWarning: \n",
      "Pyarrow will become a required dependency of pandas in the next major release of pandas (pandas 3.0),\n",
      "(to allow more performant data types, such as the Arrow string type, and better interoperability with other libraries)\n",
      "but was not found to be installed on your system.\n",
      "If this would cause problems for you,\n",
      "please provide us feedback at https://github.com/pandas-dev/pandas/issues/54466\n",
      "        \n",
      "  import pandas as pd\n"
     ]
    }
   ],
   "source": [
    "from openai import OpenAI\n",
    "import json\n",
    "import csv\n",
    "import tqdm\n",
    "import pandas as pd\n",
    "import matplotlib.pyplot as plt\n",
    "\n",
    "# Initialize the OpenAI client locally\n",
    "# client = OpenAI(base_url=\"http://172.30.80.1:7878/v1\", api_key=\"\")\n",
    "\n",
    "# Initialize the OpenAI client\n",
    "client = OpenAI(api_key='')"
   ]
  },
  {
   "cell_type": "markdown",
   "metadata": {},
   "source": [
    "## Get company name"
   ]
  },
  {
   "cell_type": "code",
   "execution_count": 2,
   "metadata": {},
   "outputs": [],
   "source": [
    "df = pd.read_csv('/mnt/c/Users/alotf/OneDrive - University of Surrey/[1] Raw Data/slr_paper/companies-2023.csv')\n",
    "unique_types = df['industry'].value_counts().sort_values(ascending=False)"
   ]
  },
  {
   "cell_type": "code",
   "execution_count": 3,
   "metadata": {},
   "outputs": [
    {
     "data": {
      "text/plain": [
       "industry\n",
       "construction                         683107\n",
       "it services and it consulting        651987\n",
       "advertising services                 617887\n",
       "business consulting and services     508608\n",
       "real estate                          471242\n",
       "                                      ...  \n",
       "otelcilik                                 1\n",
       "ict-services en consultancy               1\n",
       "fabrication de véhicules à moteur         1\n",
       "servicios de instalaciones                1\n",
       "transporte terrestre en camión            1\n",
       "Name: count, Length: 542, dtype: int64"
      ]
     },
     "execution_count": 3,
     "metadata": {},
     "output_type": "execute_result"
    }
   ],
   "source": [
    "unique_types"
   ]
  },
  {
   "cell_type": "code",
   "execution_count": 4,
   "metadata": {},
   "outputs": [],
   "source": [
    "unique_types.to_csv('unique_types.csv')"
   ]
  },
  {
   "cell_type": "code",
   "execution_count": null,
   "metadata": {},
   "outputs": [],
   "source": [
    "prompt_placeholder = \"\"\"\n",
    "{story}\n",
    "** Objective: Extract the company name and it's industry from this customer testimonial about a Business Intelligence tool. If it's not in the list, write 'other'. **\n",
    "\n",
    "The industry you are looking for is one of the following: ['construction', 'it services and it consulting', 'advertising services',\n",
    "       'business consulting and services', 'real estate', 'retail',\n",
    "       'software development', 'financial services',\n",
    "       'hospitals and health care', 'technology, information and internet',\n",
    "       'wellness and fitness services', 'hospitality',\n",
    "       'non-profit organizations', 'professional training and coaching',\n",
    "       'medical practices', 'restaurants', 'information technology & services',\n",
    "       'education administration programs', 'architecture and planning',\n",
    "       'accounting', 'design services',\n",
    "       'appliances, electrical, and electronics manufacturing',\n",
    "       'food and beverage services', 'events services',\n",
    "       'motor vehicle manufacturing', 'consumer services',\n",
    "       'staffing and recruiting', 'legal services', 'media production',\n",
    "       'individual and family services', 'civic and social organizations',\n",
    "       'law practice', 'machinery manufacturing', 'spectator sports',\n",
    "       'insurance', 'higher education', 'retail apparel and fashion',\n",
    "       'industrial machinery manufacturing', 'wholesale',\n",
    "       'entertainment providers', 'telecommunications', 'travel arrangements',\n",
    "       'human resources services', 'environmental services', 'manufacturing',\n",
    "       'oil and gas', 'transportation, logistics, supply chain and storage',\n",
    "       'food and beverage manufacturing', 'facilities services',\n",
    "       'truck transportation']\n",
    "\n",
    "** Output: The company name and it's industry. For industry write the top three guesses. **\n",
    "The output format should be in JSON format.\n",
    "\"\"\""
   ]
  },
  {
   "cell_type": "code",
   "execution_count": 3,
   "metadata": {},
   "outputs": [],
   "source": [
    "def collect_data(stories, prompt_placeholder, client):\n",
    "        \"\"\"Collects data from the LLM model, storing results in an intermediate format.\n",
    "\n",
    "        Args:\n",
    "            stories: A list of stories (each as a dictionary with a 'content' key).\n",
    "            prompt_placeholder: The prompt template with a '{story}' placeholder.\n",
    "            client: The client object for interacting with the LLM.\n",
    "\n",
    "        Returns:\n",
    "            A list of results where each result is a dictionary.\n",
    "        \"\"\"\n",
    "\n",
    "        results = []\n",
    "        with tqdm.tqdm(total=len(stories), desc=\"Extracting\") as pbar:\n",
    "            for i, story in enumerate(stories):\n",
    "                content = story['content']\n",
    "                story_id = story['id']\n",
    "                prompt = prompt_placeholder.replace('{story}', content)\n",
    "\n",
    "                completion = client.chat.completions.create(\n",
    "                    model=\"gpt-4o\",\n",
    "                    # model=\"gpt-4-turbo\",\n",
    "                    # model=\"lmstudio-community/Meta-Llama-3-8B-Instruct-GGUF\",\n",
    "                    messages=[\n",
    "                        {\"role\": \"system\", \"content\": \"You are a helpful, smart, and efficient AI assistant, you're task is to analyze a customer testimonial from a BI service and extract some variables from it and output them in json format.\"},\n",
    "                        {\"role\": \"user\", \"content\": prompt}\n",
    "                    ],\n",
    "                    temperature=0.8\n",
    "                )\n",
    "\n",
    "                response_text = completion.choices[0].message.content.replace('\\n', '')\n",
    "\n",
    "                results.append({\n",
    "                    'story_id': story_id,\n",
    "                    'response': response_text,\n",
    "                })\n",
    "\n",
    "                pbar.update(1)\n",
    "\n",
    "        return results\n",
    "\n",
    "def convert_to_json(results):\n",
    "    \"\"\"Converts the collected results into JSON format.\n",
    "\n",
    "    Args:\n",
    "        results: The list of results produced by the 'collect_data' function.\n",
    "\n",
    "    Returns:\n",
    "        A list of results where each result is a dictionary with extracted JSON data.\n",
    "    \"\"\"\n",
    "\n",
    "    json_results = []\n",
    "    for result in results:\n",
    "        json_start_index = result['response'].find('{')\n",
    "        json_end_index = result['response'].rfind('}') + 1\n",
    "        json_text = result['response'][json_start_index:json_end_index]\n",
    "\n",
    "        try:\n",
    "            extracted_data = json.loads(json_text)\n",
    "            json_results.append({\n",
    "                'story_id': result['story_id'],\n",
    "                **extracted_data\n",
    "            })\n",
    "        except json.JSONDecodeError:\n",
    "            json_results.append({\n",
    "                'story_id': result['story_id'],\n",
    "                'response': result['response'],\n",
    "                'json_error': 'Invalid JSON in response'\n",
    "            })\n",
    "\n",
    "    return json_results"
   ]
  },
  {
   "cell_type": "code",
   "execution_count": null,
   "metadata": {},
   "outputs": [],
   "source": [
    "with open('/home/ashkan/Code/customer_stories/results/combined_data.json') as f:\n",
    "    stories = json.load(f)\n",
    "    \n",
    "data = collect_data(stories, prompt_placeholder, client)"
   ]
  },
  {
   "cell_type": "code",
   "execution_count": null,
   "metadata": {},
   "outputs": [],
   "source": [
    "json_data = convert_to_json(data)"
   ]
  },
  {
   "cell_type": "code",
   "execution_count": null,
   "metadata": {},
   "outputs": [],
   "source": [
    "with open('/home/ashkan/Code/testimonial_llm_analysis/data/results_indust.json', 'w') as f:\n",
    "    json.dump(json_data, f) "
   ]
  },
  {
   "cell_type": "markdown",
   "metadata": {},
   "source": [
    "## First run of the model"
   ]
  },
  {
   "cell_type": "code",
   "execution_count": 2,
   "metadata": {},
   "outputs": [],
   "source": [
    "prompt_placeholder = \"\"\"\n",
    "{story}\n",
    "** Objective: Extract key insights from the customer testimonial about Business Intelligence implementation process of this company. **\n",
    "\n",
    "Guiding Questions:\n",
    "* Adoption Drivers: What were the primary drivers behind company's BI adoption? (e.g., [driver_1], [driver_2], etc.)\n",
    "* Implementation Strategies: Which strategies did the company employ to successfully deploy its BI capabilities? (e.g., [strategy_1], [strategy_2], etc.)\n",
    "* Challenges and Solutions: What were the most common challenges faced by the company during its BI implementation process, and how were they addressed? (e.g., [challenge_1], [challenge_2], etc.)\n",
    "* Monetization: How did [Company Name] monetize its BI capabilities? (e.g., [approach 1], [approach 2], etc.)\n",
    "* Collaboration and Culture: What strategies did the company use to promote team collaboration and data-driven decision-making within its organization as a result of implementing BI? (e.g., [strategy_1], [strategy_2], etc.)\n",
    "* Mobile Accessibility: Does [Company Name] display their dashboard in mobile apps? [Yes/No]\n",
    "* Ease of Use: How intuitive and user-friendly is the platform? Consider feedback related to the learning curve and user interface and training program and provide factual outputs.\n",
    "* Functionality: What features are available? List them if they are mentioned in the testimonial. [Data Visualization, Report Generation, Data Integration, ETL,, Real-Time Data Processing, Interactive Dashboards, Mobile Accessibility, Customizable Templates, User Access Controls, Predictive Analytics, Data Warehousing, Performance Monitoring, Alerting and Notifications,Multidimensional Analysis, KPI Tracking, API Integration, Natural Language Querying, Ad Hoc Reporting]\n",
    "* Integration Capabilities: How easily can the platform integrate with other tools and systems in the users' environments? Can you mention any specific tools and systems noted in testimonials?\n",
    "* Scalability: Can the platform scale according to the organization’s needs? What feedback is available regarding its performance as the amount of data grows?\n",
    "* Cost Effectiveness: How do users perceive the platform’s pricing relative to its features and capabilities? Are there any specific comments on its cost-effectiveness?\n",
    "* Customer Support: How effective is the customer support for the platform? Are there any reviews about the responsiveness and helpfulness of the support team?\n",
    "* Data Security: How well does the platform secure user data? Include feedback on any security features and users’ trust in the platform.\n",
    "* Customization Options: How adaptable is the platform to specific business needs? Consider how users feel about the customization capabilities.\n",
    "* Training and Resources: Review the availability and quality of training materials and resources to help users maximize their use of the platform.\n",
    "\n",
    "** Instructions to the Model: **\n",
    "1. Prioritize Accuracy: Extract information directly from the text. Do not fabricate or \"hallucinate\" details.\n",
    "2. Handle Missing Information: If a topic is not mentioned in the testimonial, indicate \"Information not found\" in the corresponding JSON field.\n",
    "3. Do not write long sentences, I want categorical information.\n",
    "4. Output Format: JSON object with the following keys: `drivers`, `imp_strategies`, `challenges`, `monetization`, `collaboration`, `mobile`, `ease_of_use`,  `functionality`, `integration`, `scalability`, `cost_effectiveness`, `customer_support`, `data_security`, `customization`, 'training'.\n",
    "5. Example Output:\n",
    "{\n",
    "    \"drivers\": [\n",
    "         \"driver_1 text\",\n",
    "         \"driver_2 text\"\n",
    "    ],\n",
    "    \"imp_strategies\": [\n",
    "        \"strategy_1 text\",\n",
    "        \"strategy_2 text\"\n",
    "    ],\n",
    "    \"challenges\": [\n",
    "        \"challenge_1 text\",\n",
    "        \"challenge_2 text\"\n",
    "    ],\n",
    "    \"monetization\": \"description\",\n",
    "    \"collaboration\": [\n",
    "        \"collaboration strategy 1\",\n",
    "        \"collaboration strategy 2\"\n",
    "    ],\n",
    "    \"mobile\": \"Yes/No\",\n",
    "    \"ease_of_use\": \"description\",\n",
    "    \"functionality\": [\n",
    "         \"functionality_1\",\n",
    "         \"functionality_2\"\n",
    "    ],\n",
    "    \"integration\": \"description\",\n",
    "    \"scalability\": \"description\",\n",
    "    \"cost_effectiveness\": \"description\",\n",
    "    \"customer_support\": \"description\",\n",
    "    \"data_security\": \"description\",\n",
    "    \"customization\": \"description\",\n",
    "    \"training\": \"description\"\n",
    "  },\n",
    "\"\"\""
   ]
  },
  {
   "cell_type": "code",
   "execution_count": 6,
   "metadata": {},
   "outputs": [],
   "source": [
    "with open('/home/ashkan/Code/testimonial_llm_analysis/data/data_final.json') as f:\n",
    "    stories = json.load(f)\n",
    "\n",
    "def collect_data(stories, prompt_placeholder, client):\n",
    "        \"\"\"Collects data from the LLM model, storing results in an intermediate format.\n",
    "\n",
    "        Args:\n",
    "            stories: A list of stories (each as a dictionary with a 'content' key).\n",
    "            prompt_placeholder: The prompt template with a '{story}' placeholder.\n",
    "            client: The client object for interacting with the LLM.\n",
    "\n",
    "        Returns:\n",
    "            A list of results where each result is a dictionary.\n",
    "        \"\"\"\n",
    "\n",
    "        results = []\n",
    "        with tqdm.tqdm(total=len(stories), desc=\"Extracting\") as pbar:\n",
    "            for i, story in enumerate(stories):\n",
    "                content = story['content']\n",
    "                story_id = story['id']\n",
    "                prompt = prompt_placeholder.replace('{story}', content)\n",
    "\n",
    "                completion = client.chat.completions.create(\n",
    "                    model=\"gpt-4o\",\n",
    "                    # model=\"gpt-4-turbo\",\n",
    "                    messages=[\n",
    "                        {\"role\": \"system\", \"content\": \"You are a helpful, smart, and efficient AI assistant, you're task is to analyze a customer testimonial from a BI service and extract some variables from it and output them in json format.\"},\n",
    "                        {\"role\": \"user\", \"content\": prompt}\n",
    "                    ],\n",
    "                    temperature=0.8\n",
    "                )\n",
    "\n",
    "                response_text = completion.choices[0].message.content.replace('\\n', '')\n",
    "\n",
    "                results.append({\n",
    "                    'story_id': story_id,\n",
    "                    'response': response_text,\n",
    "                })\n",
    "\n",
    "                pbar.update(1)\n",
    "\n",
    "        return results\n",
    "\n",
    "def convert_to_json(results):\n",
    "    \"\"\"Converts the collected results into JSON format.\n",
    "\n",
    "    Args:\n",
    "        results: The list of results produced by the 'collect_data' function.\n",
    "\n",
    "    Returns:\n",
    "        A list of results where each result is a dictionary with extracted JSON data.\n",
    "    \"\"\"\n",
    "\n",
    "    json_results = []\n",
    "    for result in results:\n",
    "        json_start_index = result['response'].find('{')\n",
    "        json_end_index = result['response'].rfind('}') + 1\n",
    "        json_text = result['response'][json_start_index:json_end_index]\n",
    "\n",
    "        try:\n",
    "            extracted_data = json.loads(json_text)\n",
    "            json_results.append({\n",
    "                'story_id': result['story_id'],\n",
    "                **extracted_data\n",
    "            })\n",
    "        except json.JSONDecodeError:\n",
    "            json_results.append({\n",
    "                'story_id': result['story_id'],\n",
    "                'response': result['response'],\n",
    "                'json_error': 'Invalid JSON in response'\n",
    "            })\n",
    "\n",
    "    return json_results"
   ]
  },
  {
   "cell_type": "code",
   "execution_count": null,
   "metadata": {},
   "outputs": [],
   "source": [
    "data = collect_data(stories, prompt_placeholder, client)\n",
    "json_data = convert_to_json(data)"
   ]
  },
  {
   "cell_type": "code",
   "execution_count": null,
   "metadata": {},
   "outputs": [],
   "source": [
    "with open('/home/ashkan/Code/testimonial_llm_analysis/data/results_first_run.json', 'w') as f:\n",
    "    json.dump(json_data, f)"
   ]
  },
  {
   "cell_type": "markdown",
   "metadata": {},
   "source": [
    "## Getting the categories"
   ]
  },
  {
   "cell_type": "code",
   "execution_count": 7,
   "metadata": {},
   "outputs": [],
   "source": [
    "# Load the JSON file\n",
    "with open('/home/ashkan/Code/testimonial_llm_analysis/data/results_first_run.json') as f:\n",
    "    stories = json.load(f)"
   ]
  },
  {
   "cell_type": "code",
   "execution_count": 14,
   "metadata": {},
   "outputs": [],
   "source": [
    "drivers_texts = [driver for entry in stories for driver in entry.get('drivers', [])]\n",
    "drivers_texts_str = '\\n'.join(drivers_texts)\n",
    "\n",
    "strategies_texts = [driver for entry in stories for driver in entry.get('imp_strategies', [])]\n",
    "strategies_texts_str = '\\n'.join(strategies_texts)\n",
    "\n",
    "challenges_texts = [driver for entry in stories for driver in entry.get('challenges', [])]\n",
    "challenges_texts_str = '\\n'.join(challenges_texts)\n",
    "\n",
    "collaboration_texts = [driver for entry in stories for driver in entry.get('collaboration', [])]\n",
    "collaboration_texts_str = '\\n'.join(collaboration_texts)"
   ]
  },
  {
   "cell_type": "code",
   "execution_count": 19,
   "metadata": {},
   "outputs": [],
   "source": [
    "# # Specify the file path to save the CSV file\n",
    "# csv_file = '/home/ashkan/Code/testimonial_llm_analysis/data/categories/collaboration_texts.csv'\n",
    "\n",
    "# # Write the list to the CSV file\n",
    "# with open(csv_file, 'w', newline='') as f:\n",
    "#     writer = csv.writer(f)\n",
    "#     writer.writerow(['collaboration_texts'])  # Write the header\n",
    "#     writer.writerows(zip(collaboration_texts))  # Write the data"
   ]
  },
  {
   "cell_type": "code",
   "execution_count": 29,
   "metadata": {},
   "outputs": [],
   "source": [
    "prompt_cat = \"\"\"\n",
    "{story}\n",
    "** Objective: The following is the result of an analysis on implementation strategies of 2700 companies that implemented Business Intelligence. Read all of the strategies and come up with a number of categories that summarize the strategies. **\n",
    "** Output: The categories that best summarize the implementation strategies in json format. **\n",
    "** Prioritize Accuracy: Extract information directly from the text. Do not fabricate or \"hallucinate\" details. **\n",
    "\"\"\""
   ]
  },
  {
   "cell_type": "code",
   "execution_count": 33,
   "metadata": {},
   "outputs": [],
   "source": [
    "def collect_data_cat(text, prompt_placeholder, client):\n",
    "        \"\"\"Collects data from the LLM model, storing results in an intermediate format.\n",
    "\n",
    "        Args:\n",
    "            stories: A list of stories (each as a dictionary with a 'content' key).\n",
    "            prompt_placeholder: The prompt template with a '{story}' placeholder.\n",
    "            client: The client object for interacting with the LLM.\n",
    "\n",
    "        Returns:\n",
    "            A list of results where each result is a dictionary.\n",
    "        \"\"\"\n",
    "        prompt = prompt_placeholder.replace('{story}', text)\n",
    "\n",
    "        completion = client.chat.completions.create(\n",
    "            model=\"gpt-4o\",\n",
    "            # model=\"gpt-4-turbo\",\n",
    "            messages=[\n",
    "                {\"role\": \"system\", \"content\": \"You are a helpful, smart, and efficient AI assistant\"},# you're task is to analyze a customer testimonial from a BI service and extract some variables from it and output them in json format.\"},\n",
    "                {\"role\": \"user\", \"content\": prompt}\n",
    "            ],\n",
    "            temperature=0.8\n",
    "        )\n",
    "\n",
    "        response_text = completion.choices[0].message.content.replace('\\n', '')\n",
    "\n",
    "        return response_text\n",
    "\n",
    "def convert_to_json_cat(results):\n",
    "    \"\"\"Converts the collected results into JSON format.\n",
    "\n",
    "    Args:\n",
    "        results: The list of results produced by the 'collect_data' function.\n",
    "\n",
    "    Returns:\n",
    "        A list of results where each result is a dictionary with extracted JSON data.\n",
    "    \"\"\"\n",
    "\n",
    "    json_start_index = results.find('{')\n",
    "    json_end_index = results.rfind('}') + 1\n",
    "    json_text = results[json_start_index:json_end_index]\n",
    "    extracted_data = json.loads(json_text)\n",
    "\n",
    "    return extracted_data"
   ]
  },
  {
   "cell_type": "code",
   "execution_count": 36,
   "metadata": {},
   "outputs": [],
   "source": [
    "# drivers_cat = collect_data_cat(drivers_texts_str, prompt_cat, client)\n",
    "# json_drivers = convert_to_json_cat(drivers_cat)\n",
    "\n",
    "strategies_cat = collect_data_cat(strategies_texts_str, prompt_cat, client)\n",
    "json_strategies = convert_to_json_cat(strategies_cat)\n",
    "\n"
   ]
  },
  {
   "cell_type": "code",
   "execution_count": 37,
   "metadata": {},
   "outputs": [],
   "source": [
    "with open('/home/ashkan/Code/testimonial_llm_analysis/data/strategies_cat.json', 'w') as f:\n",
    "    json.dump(json_strategies, f)"
   ]
  },
  {
   "cell_type": "markdown",
   "metadata": {},
   "source": [
    "## Categories the stories"
   ]
  },
  {
   "cell_type": "code",
   "execution_count": 4,
   "metadata": {},
   "outputs": [],
   "source": [
    "prompt_final = \"\"\"\n",
    "{story}\n",
    "** Objective: Read the above customer testimonial about Business Intelligence implementation process of this company, and extract the collaboration strategies they used in their process. After that, Choose one or more the following categories for their challenges. **\n",
    "\n",
    "{\n",
    "    \"categories\": [\n",
    "      {\n",
    "        \"category_name\": \"Training and Empowerment\",\n",
    "        \"colab\": [\n",
    "          \"training more business users on the software\",\n",
    "          \"Encouraging the team to take advantage of ongoing training and support\",\n",
    "          \"training staff on using Jet Analytics and Power BI\",\n",
    "          \"Using user-friendly tools like Vizlib to boost data usage\",\n",
    "          \"Extensive training to ensure thorough understanding\",\n",
    "          \"Training more staff to use Tableau\",\n",
    "          \"Creating a Center of Excellence for ongoing training\"\n",
    "        ]\n",
    "      },\n",
    "      {\n",
    "        \"category_name\": \"Collaboration and Integration\",\n",
    "        \"colab\": [\n",
    "          \"Dashboard for executive communication\",\n",
    "          \"Collaborative planning with centralized data\",\n",
    "          \"Collaborative sales forecasting in Power BI\",\n",
    "          \"Increased business user acceptance and use of the SAP system\",\n",
    "          \"Gained better clarity of individual tasks and their influence on delivery times\",\n",
    "          \"Regular feedback and quick turnaround on new versions\",\n",
    "          \"Open framework for collaboration and innovation\",\n",
    "        ]\n",
    "      },\n",
    "      {\n",
    "        \"category_name\": \"Data Accessibility and Self-Service\",\n",
    "        \"colab\": [\n",
    "          \"User-friendly Excel interface for non-technical users\",\n",
    "          \"Empowering agents with self-service tools\",\n",
    "          \"Enabling self-service data access for diverse roles\",\n",
    "          \"Empowering staff with self-service data tools\",\n",
    "          \"Enabling self-service access for business users\",\n",
    "          \"Promoting self-service analytics for various roles\",\n",
    "          \"Self-service data visualization for strategic decisions\"\n",
    "        ]\n",
    "      },\n",
    "      {\n",
    "        \"category_name\": \"Real-time Data and Decision Making\",\n",
    "        \"colab\": [\n",
    "          \"Providing real-time data access to multiple sources\",\n",
    "          \"Collaborative real-time data sharing\",\n",
    "          \"Automated real-time reporting for decision making\",\n",
    "          \"Interactive real-time dashboards\",\n",
    "          \"Real-time reporting for improved decision-making\",\n",
    "          \"Empowering teams with real-time data access\",\n",
    "          \"Providing real-time data to support operations\",\n",
    "          \"Real-time data access for business decisions\"\n",
    "        ]\n",
    "      },\n",
    "      {\n",
    "        \"category_name\": \"Standardization and Governance\",\n",
    "        \"colab\": [\n",
    "          \"Commitment to achieving a single version of truth\",\n",
    "          \"Data quality management and insight sharing\",\n",
    "          \"Standardizing knowledge sharing across departments\",\n",
    "          \"Standardizing collaboration processes\",\n",
    "          \"Centralized data governance for improved efficiency\",\n",
    "          \"Implementing standardized governance for all users\",\n",
    "          \"Centralized reporting and governance systems\",\n",
    "          \"Centralized policies for data governance\",\n",
    "          \"Promoting centralized governance for better control\",\n",
    "          \"Implementing consistent data processes and governance\"\n",
    "        ]\n",
    "      },\n",
    "      {\n",
    "        \"category_name\": \"Cultural Change and Adoption\",\n",
    "        \"colab\": [\n",
    "          \"Creating a culture where employees embrace data-driven insights\",\n",
    "          \"Fostering an analytics mindset among the workforce\",\n",
    "          \"Driving user adoption by introducing intuitive tools\",\n",
    "          \"Cultural transformation towards data-driven decisions\",\n",
    "          \"Promoting data-driven practices through community\",\n",
    "          \"Encouraging data-driven conversations\",\n",
    "          \"Building a data-first culture\",\n",
    "          \"Promoting a culture of data literacy\",\n",
    "          \"Encouraging adoption of data tools\"\n",
    "        ]\n",
    "      },\n",
    "      {\n",
    "        \"category_name\": \"Automated Workflows and Efficiency\",\n",
    "        \"colab\": [\n",
    "          \"Automated workflows in Bizview\",\n",
    "          \"Streamlined distribution and collection of procurement details\",\n",
    "          \"Automated commentary collection\",\n",
    "          \"Using automated tools for better efficiency\",\n",
    "          \"Automated data alerts for real-time insights\",\n",
    "          \"Automated data pipelines for consistency\",\n",
    "          \"Using automation to optimize workflows\",\n",
    "          \"Implementing automation for better productivity\"\n",
    "        ]\n",
    "      },\n",
    "      {\n",
    "        \"category_name\": \"Customized and Tailored Solutions\",\n",
    "        \"colab\": [\n",
    "          \"Developing tailored data solutions for customer requirements\",\n",
    "          \"Providing customized dashboards per user\",\n",
    "          \"Creating custom solutions for user needs\",\n",
    "          \"Tailoring dashboards for individual requirements\",\n",
    "          \"Providing personalized analytics tools\",\n",
    "          \"Creating custom dashboards for various user needs\",\n",
    "          \"Tailoring data solutions for individual requirements\"\n",
    "        ]\n",
    "      }\n",
    "    ]\n",
    "  }\n",
    "\n",
    "** Instructions to the Model: **\n",
    "1. Prioritize Accuracy: Extract information directly from the text. Do not fabricate or \"hallucinate\" details.\n",
    "2. Handle Missing Information: If the strategies are not mentioned in the testimonial, or none of the categories is not mentioned, indicate \"Information not found\".\n",
    "3. Do not write long sentences, I only want the name of the category from the list above which are one of the following: ['Training and Empowerment', 'Collaboration and Integration', 'Data Accessibility and Self-Service', 'Real-time Data and Decision Making', 'Standardization and Governance', 'Cultural Change and Adoption', 'Automated Workflows and Efficiency', 'Customized and Tailored Solutions']\n",
    "4. Example Output:\n",
    "{\n",
    "    \"collab\": [\n",
    "         \"collab 1 name\",\n",
    "         \"collab 2 name\"\n",
    "    ]\n",
    "}\n",
    "\"\"\""
   ]
  },
  {
   "cell_type": "code",
   "execution_count": 7,
   "metadata": {},
   "outputs": [
    {
     "name": "stderr",
     "output_type": "stream",
     "text": [
      "Extracting: 100%|██████████| 2583/2583 [53:45<00:00,  1.25s/it] \n"
     ]
    }
   ],
   "source": [
    "with open('/home/ashkan/Code/testimonial_llm_analysis/data/data_final.json') as f:\n",
    "    stories = json.load(f)\n",
    "    \n",
    "data_final = collect_data(stories, prompt_final, client)"
   ]
  },
  {
   "cell_type": "code",
   "execution_count": 8,
   "metadata": {},
   "outputs": [],
   "source": [
    "json_data_final = convert_to_json(data_final)\n",
    "\n",
    "with open('/home/ashkan/Code/testimonial_llm_analysis/data/results_collab_final.json', 'w') as f:\n",
    "    json.dump(json_data_final, f)"
   ]
  },
  {
   "cell_type": "markdown",
   "metadata": {},
   "source": [
    "## Results"
   ]
  },
  {
   "cell_type": "code",
   "execution_count": 150,
   "metadata": {},
   "outputs": [],
   "source": [
    "with open('/home/ashkan/Code/testimonial_llm_analysis/data/results_collab_final.json') as f:\n",
    "    json_data_final = json.load(f)\n",
    "\n",
    "# results_drivers_final\n",
    "# results_strategies_final\n",
    "# results_challenges_final\n",
    "# results_collab_final"
   ]
  },
  {
   "cell_type": "code",
   "execution_count": 151,
   "metadata": {},
   "outputs": [],
   "source": [
    "# drivers\n",
    "# imp_strategies\n",
    "# challenges\n",
    "# collab\n",
    "\n",
    "rows = []\n",
    "for item in json_data_final:\n",
    "    story_id = item['story_id']# .split('_')[0]  # Get the first part of the story_id\n",
    "    for driver in item['collab']:\n",
    "        rows.append({'story_id': story_id, 'category': driver})\n",
    "\n",
    "# # Create DataFrame\n",
    "df = pd.DataFrame(rows)\n",
    "\n",
    "# Create pivot table\n",
    "pivot_table = pd.crosstab(df['story_id'], df['category']).reset_index()"
   ]
  },
  {
   "cell_type": "code",
   "execution_count": 152,
   "metadata": {},
   "outputs": [],
   "source": [
    "df_indust = pd.read_csv('/home/ashkan/Code/testimonial_llm_analysis/pre_processin/df_merge.csv')"
   ]
  },
  {
   "cell_type": "code",
   "execution_count": 153,
   "metadata": {},
   "outputs": [],
   "source": [
    "merged_df = pd.merge(pivot_table, df_indust[['story_id', 'industry_4']].rename(columns={'industry_4': 'industry'}), on='story_id')\n",
    "merged_df['platform'] = merged_df['story_id'].str.split('_').str[0]\n",
    "\n",
    "merged_df = merged_df[['platform', 'industry'] + list(merged_df.columns[1:-2])]\n",
    "\n",
    "merged_df['industry'] = merged_df['industry'].str.lower()"
   ]
  },
  {
   "cell_type": "code",
   "execution_count": 154,
   "metadata": {},
   "outputs": [],
   "source": [
    "# pivot_table = merged_df.pivot_table(index='industry', columns='platform', aggfunc='size', fill_value=0)\n",
    "# pivot_table"
   ]
  },
  {
   "cell_type": "code",
   "execution_count": 155,
   "metadata": {},
   "outputs": [],
   "source": [
    "# merged_df['industry'].value_counts().plot(kind='barh', grid=True, figsize=(12, 6), color='#a4c0ba', edgecolor='k')\n",
    "# plt.xlabel('Number of companies')\n",
    "# plt.ylabel('')\n",
    "\n",
    "# # Customize gridlines\n",
    "# plt.grid(color='lightgray', linestyle='--')\n",
    "\n",
    "# # Add labels to the end of the bars\n",
    "# for i, v in enumerate(merged_df['industry'].value_counts()):\n",
    "#     plt.text(v + 1, i, str(v), color='black', va='center')\n",
    "\n",
    "# plt.show()"
   ]
  },
  {
   "cell_type": "code",
   "execution_count": 156,
   "metadata": {},
   "outputs": [],
   "source": [
    "platform_results = merged_df.pivot_table(index='platform', aggfunc='sum').drop(['industry'], axis=1).apply(lambda x: x / x.sum(), axis=1).round(3).transpose()\n",
    "\n",
    "platform_results['mean'] = platform_results.mean(axis=1).round(3)"
   ]
  },
  {
   "cell_type": "code",
   "execution_count": 157,
   "metadata": {},
   "outputs": [
    {
     "data": {
      "text/html": [
       "<div>\n",
       "<style scoped>\n",
       "    .dataframe tbody tr th:only-of-type {\n",
       "        vertical-align: middle;\n",
       "    }\n",
       "\n",
       "    .dataframe tbody tr th {\n",
       "        vertical-align: top;\n",
       "    }\n",
       "\n",
       "    .dataframe thead th {\n",
       "        text-align: right;\n",
       "    }\n",
       "</style>\n",
       "<table border=\"1\" class=\"dataframe\">\n",
       "  <thead>\n",
       "    <tr style=\"text-align: right;\">\n",
       "      <th>platform</th>\n",
       "      <th>board</th>\n",
       "      <th>dash</th>\n",
       "      <th>insight</th>\n",
       "      <th>knime</th>\n",
       "      <th>looker</th>\n",
       "      <th>powerbi</th>\n",
       "      <th>qlik</th>\n",
       "      <th>tableau</th>\n",
       "      <th>mean</th>\n",
       "    </tr>\n",
       "  </thead>\n",
       "  <tbody>\n",
       "    <tr>\n",
       "      <th>Automated Workflows and Efficiency</th>\n",
       "      <td>0.123</td>\n",
       "      <td>0.083</td>\n",
       "      <td>0.173</td>\n",
       "      <td>0.233</td>\n",
       "      <td>0.148</td>\n",
       "      <td>0.125</td>\n",
       "      <td>0.074</td>\n",
       "      <td>0.044</td>\n",
       "      <td>0.125</td>\n",
       "    </tr>\n",
       "    <tr>\n",
       "      <th>Collaboration and Integration</th>\n",
       "      <td>0.263</td>\n",
       "      <td>0.319</td>\n",
       "      <td>0.226</td>\n",
       "      <td>0.271</td>\n",
       "      <td>0.253</td>\n",
       "      <td>0.238</td>\n",
       "      <td>0.263</td>\n",
       "      <td>0.204</td>\n",
       "      <td>0.255</td>\n",
       "    </tr>\n",
       "    <tr>\n",
       "      <th>Cultural Change and Adoption</th>\n",
       "      <td>0.046</td>\n",
       "      <td>0.000</td>\n",
       "      <td>0.034</td>\n",
       "      <td>0.055</td>\n",
       "      <td>0.072</td>\n",
       "      <td>0.105</td>\n",
       "      <td>0.105</td>\n",
       "      <td>0.166</td>\n",
       "      <td>0.073</td>\n",
       "    </tr>\n",
       "    <tr>\n",
       "      <th>Customized and Tailored Solutions</th>\n",
       "      <td>0.133</td>\n",
       "      <td>0.292</td>\n",
       "      <td>0.122</td>\n",
       "      <td>0.137</td>\n",
       "      <td>0.131</td>\n",
       "      <td>0.088</td>\n",
       "      <td>0.074</td>\n",
       "      <td>0.072</td>\n",
       "      <td>0.131</td>\n",
       "    </tr>\n",
       "    <tr>\n",
       "      <th>Data Accessibility and Self-Service</th>\n",
       "      <td>0.120</td>\n",
       "      <td>0.111</td>\n",
       "      <td>0.186</td>\n",
       "      <td>0.113</td>\n",
       "      <td>0.098</td>\n",
       "      <td>0.120</td>\n",
       "      <td>0.137</td>\n",
       "      <td>0.212</td>\n",
       "      <td>0.137</td>\n",
       "    </tr>\n",
       "    <tr>\n",
       "      <th>Real-time Data and Decision Making</th>\n",
       "      <td>0.120</td>\n",
       "      <td>0.153</td>\n",
       "      <td>0.114</td>\n",
       "      <td>0.068</td>\n",
       "      <td>0.214</td>\n",
       "      <td>0.167</td>\n",
       "      <td>0.242</td>\n",
       "      <td>0.151</td>\n",
       "      <td>0.154</td>\n",
       "    </tr>\n",
       "    <tr>\n",
       "      <th>Standardization and Governance</th>\n",
       "      <td>0.173</td>\n",
       "      <td>0.028</td>\n",
       "      <td>0.096</td>\n",
       "      <td>0.075</td>\n",
       "      <td>0.074</td>\n",
       "      <td>0.124</td>\n",
       "      <td>0.095</td>\n",
       "      <td>0.073</td>\n",
       "      <td>0.092</td>\n",
       "    </tr>\n",
       "    <tr>\n",
       "      <th>Training and Empowerment</th>\n",
       "      <td>0.022</td>\n",
       "      <td>0.014</td>\n",
       "      <td>0.048</td>\n",
       "      <td>0.048</td>\n",
       "      <td>0.009</td>\n",
       "      <td>0.033</td>\n",
       "      <td>0.011</td>\n",
       "      <td>0.079</td>\n",
       "      <td>0.033</td>\n",
       "    </tr>\n",
       "  </tbody>\n",
       "</table>\n",
       "</div>"
      ],
      "text/plain": [
       "platform                             board   dash  insight  knime  looker  \\\n",
       "Automated Workflows and Efficiency   0.123  0.083    0.173  0.233   0.148   \n",
       "Collaboration and Integration        0.263  0.319    0.226  0.271   0.253   \n",
       "Cultural Change and Adoption         0.046  0.000    0.034  0.055   0.072   \n",
       "Customized and Tailored Solutions    0.133  0.292    0.122  0.137   0.131   \n",
       "Data Accessibility and Self-Service  0.120  0.111    0.186  0.113   0.098   \n",
       "Real-time Data and Decision Making   0.120  0.153    0.114  0.068   0.214   \n",
       "Standardization and Governance       0.173  0.028    0.096  0.075   0.074   \n",
       "Training and Empowerment             0.022  0.014    0.048  0.048   0.009   \n",
       "\n",
       "platform                             powerbi   qlik  tableau   mean  \n",
       "Automated Workflows and Efficiency     0.125  0.074    0.044  0.125  \n",
       "Collaboration and Integration          0.238  0.263    0.204  0.255  \n",
       "Cultural Change and Adoption           0.105  0.105    0.166  0.073  \n",
       "Customized and Tailored Solutions      0.088  0.074    0.072  0.131  \n",
       "Data Accessibility and Self-Service    0.120  0.137    0.212  0.137  \n",
       "Real-time Data and Decision Making     0.167  0.242    0.151  0.154  \n",
       "Standardization and Governance         0.124  0.095    0.073  0.092  \n",
       "Training and Empowerment               0.033  0.011    0.079  0.033  "
      ]
     },
     "execution_count": 157,
     "metadata": {},
     "output_type": "execute_result"
    }
   ],
   "source": [
    "platform_results"
   ]
  },
  {
   "cell_type": "code",
   "execution_count": 158,
   "metadata": {},
   "outputs": [],
   "source": [
    "industry_results = merged_df.pivot_table(index='industry', aggfunc='sum').drop(['platform'], axis=1).apply(lambda x: x / x.sum(), axis=1).round(3)\n",
    "\n",
    "industry_results_perc = industry_results.transpose()\n"
   ]
  },
  {
   "cell_type": "code",
   "execution_count": 159,
   "metadata": {},
   "outputs": [
    {
     "data": {
      "text/html": [
       "<div>\n",
       "<style scoped>\n",
       "    .dataframe tbody tr th:only-of-type {\n",
       "        vertical-align: middle;\n",
       "    }\n",
       "\n",
       "    .dataframe tbody tr th {\n",
       "        vertical-align: top;\n",
       "    }\n",
       "\n",
       "    .dataframe thead th {\n",
       "        text-align: right;\n",
       "    }\n",
       "</style>\n",
       "<table border=\"1\" class=\"dataframe\">\n",
       "  <thead>\n",
       "    <tr style=\"text-align: right;\">\n",
       "      <th>industry</th>\n",
       "      <th>accommodation and food service activities</th>\n",
       "      <th>administrative and support service activities</th>\n",
       "      <th>agriculture, forestry and fishing</th>\n",
       "      <th>arts, entertainment and recreation</th>\n",
       "      <th>construction</th>\n",
       "      <th>education</th>\n",
       "      <th>electricity, gas, steam and air conditioning supply</th>\n",
       "      <th>financial and insurance activities</th>\n",
       "      <th>human health and social work activities</th>\n",
       "      <th>information and communication</th>\n",
       "      <th>manufacturing</th>\n",
       "      <th>mining and quarrying</th>\n",
       "      <th>other</th>\n",
       "      <th>other service activities</th>\n",
       "      <th>professional, scientific and technical activities</th>\n",
       "      <th>public administration and defence; compulsory social security</th>\n",
       "      <th>real estate activities</th>\n",
       "      <th>transportation and storage</th>\n",
       "      <th>water supply; sewerage, waste management and remediation activities</th>\n",
       "      <th>wholesale and retail trade</th>\n",
       "    </tr>\n",
       "  </thead>\n",
       "  <tbody>\n",
       "    <tr>\n",
       "      <th>Automated Workflows and Efficiency</th>\n",
       "      <td>0.124</td>\n",
       "      <td>0.099</td>\n",
       "      <td>0.134</td>\n",
       "      <td>0.071</td>\n",
       "      <td>0.153</td>\n",
       "      <td>0.052</td>\n",
       "      <td>0.116</td>\n",
       "      <td>0.106</td>\n",
       "      <td>0.091</td>\n",
       "      <td>0.123</td>\n",
       "      <td>0.125</td>\n",
       "      <td>0.105</td>\n",
       "      <td>0.121</td>\n",
       "      <td>0.062</td>\n",
       "      <td>0.127</td>\n",
       "      <td>0.111</td>\n",
       "      <td>0.161</td>\n",
       "      <td>0.091</td>\n",
       "      <td>0.146</td>\n",
       "      <td>0.124</td>\n",
       "    </tr>\n",
       "    <tr>\n",
       "      <th>Collaboration and Integration</th>\n",
       "      <td>0.233</td>\n",
       "      <td>0.236</td>\n",
       "      <td>0.224</td>\n",
       "      <td>0.222</td>\n",
       "      <td>0.231</td>\n",
       "      <td>0.227</td>\n",
       "      <td>0.228</td>\n",
       "      <td>0.233</td>\n",
       "      <td>0.231</td>\n",
       "      <td>0.243</td>\n",
       "      <td>0.234</td>\n",
       "      <td>0.263</td>\n",
       "      <td>0.242</td>\n",
       "      <td>0.234</td>\n",
       "      <td>0.240</td>\n",
       "      <td>0.228</td>\n",
       "      <td>0.205</td>\n",
       "      <td>0.216</td>\n",
       "      <td>0.268</td>\n",
       "      <td>0.240</td>\n",
       "    </tr>\n",
       "    <tr>\n",
       "      <th>Cultural Change and Adoption</th>\n",
       "      <td>0.103</td>\n",
       "      <td>0.103</td>\n",
       "      <td>0.060</td>\n",
       "      <td>0.131</td>\n",
       "      <td>0.099</td>\n",
       "      <td>0.147</td>\n",
       "      <td>0.090</td>\n",
       "      <td>0.107</td>\n",
       "      <td>0.103</td>\n",
       "      <td>0.095</td>\n",
       "      <td>0.104</td>\n",
       "      <td>0.000</td>\n",
       "      <td>0.121</td>\n",
       "      <td>0.109</td>\n",
       "      <td>0.094</td>\n",
       "      <td>0.105</td>\n",
       "      <td>0.098</td>\n",
       "      <td>0.132</td>\n",
       "      <td>0.073</td>\n",
       "      <td>0.104</td>\n",
       "    </tr>\n",
       "    <tr>\n",
       "      <th>Customized and Tailored Solutions</th>\n",
       "      <td>0.112</td>\n",
       "      <td>0.084</td>\n",
       "      <td>0.104</td>\n",
       "      <td>0.121</td>\n",
       "      <td>0.099</td>\n",
       "      <td>0.109</td>\n",
       "      <td>0.110</td>\n",
       "      <td>0.090</td>\n",
       "      <td>0.095</td>\n",
       "      <td>0.116</td>\n",
       "      <td>0.077</td>\n",
       "      <td>0.211</td>\n",
       "      <td>0.061</td>\n",
       "      <td>0.125</td>\n",
       "      <td>0.117</td>\n",
       "      <td>0.074</td>\n",
       "      <td>0.107</td>\n",
       "      <td>0.115</td>\n",
       "      <td>0.122</td>\n",
       "      <td>0.097</td>\n",
       "    </tr>\n",
       "    <tr>\n",
       "      <th>Data Accessibility and Self-Service</th>\n",
       "      <td>0.124</td>\n",
       "      <td>0.171</td>\n",
       "      <td>0.149</td>\n",
       "      <td>0.167</td>\n",
       "      <td>0.124</td>\n",
       "      <td>0.181</td>\n",
       "      <td>0.127</td>\n",
       "      <td>0.132</td>\n",
       "      <td>0.155</td>\n",
       "      <td>0.137</td>\n",
       "      <td>0.157</td>\n",
       "      <td>0.158</td>\n",
       "      <td>0.212</td>\n",
       "      <td>0.156</td>\n",
       "      <td>0.144</td>\n",
       "      <td>0.160</td>\n",
       "      <td>0.152</td>\n",
       "      <td>0.160</td>\n",
       "      <td>0.073</td>\n",
       "      <td>0.128</td>\n",
       "    </tr>\n",
       "    <tr>\n",
       "      <th>Real-time Data and Decision Making</th>\n",
       "      <td>0.168</td>\n",
       "      <td>0.175</td>\n",
       "      <td>0.179</td>\n",
       "      <td>0.162</td>\n",
       "      <td>0.156</td>\n",
       "      <td>0.144</td>\n",
       "      <td>0.153</td>\n",
       "      <td>0.158</td>\n",
       "      <td>0.165</td>\n",
       "      <td>0.188</td>\n",
       "      <td>0.147</td>\n",
       "      <td>0.158</td>\n",
       "      <td>0.121</td>\n",
       "      <td>0.125</td>\n",
       "      <td>0.172</td>\n",
       "      <td>0.173</td>\n",
       "      <td>0.170</td>\n",
       "      <td>0.178</td>\n",
       "      <td>0.195</td>\n",
       "      <td>0.180</td>\n",
       "    </tr>\n",
       "    <tr>\n",
       "      <th>Standardization and Governance</th>\n",
       "      <td>0.124</td>\n",
       "      <td>0.086</td>\n",
       "      <td>0.104</td>\n",
       "      <td>0.081</td>\n",
       "      <td>0.094</td>\n",
       "      <td>0.092</td>\n",
       "      <td>0.113</td>\n",
       "      <td>0.120</td>\n",
       "      <td>0.115</td>\n",
       "      <td>0.068</td>\n",
       "      <td>0.108</td>\n",
       "      <td>0.105</td>\n",
       "      <td>0.091</td>\n",
       "      <td>0.109</td>\n",
       "      <td>0.075</td>\n",
       "      <td>0.123</td>\n",
       "      <td>0.071</td>\n",
       "      <td>0.080</td>\n",
       "      <td>0.098</td>\n",
       "      <td>0.089</td>\n",
       "    </tr>\n",
       "    <tr>\n",
       "      <th>Training and Empowerment</th>\n",
       "      <td>0.014</td>\n",
       "      <td>0.044</td>\n",
       "      <td>0.045</td>\n",
       "      <td>0.045</td>\n",
       "      <td>0.043</td>\n",
       "      <td>0.049</td>\n",
       "      <td>0.064</td>\n",
       "      <td>0.053</td>\n",
       "      <td>0.046</td>\n",
       "      <td>0.030</td>\n",
       "      <td>0.049</td>\n",
       "      <td>0.000</td>\n",
       "      <td>0.030</td>\n",
       "      <td>0.078</td>\n",
       "      <td>0.030</td>\n",
       "      <td>0.025</td>\n",
       "      <td>0.036</td>\n",
       "      <td>0.028</td>\n",
       "      <td>0.024</td>\n",
       "      <td>0.038</td>\n",
       "    </tr>\n",
       "  </tbody>\n",
       "</table>\n",
       "</div>"
      ],
      "text/plain": [
       "industry                             accommodation and food service activities  \\\n",
       "Automated Workflows and Efficiency                                       0.124   \n",
       "Collaboration and Integration                                            0.233   \n",
       "Cultural Change and Adoption                                             0.103   \n",
       "Customized and Tailored Solutions                                        0.112   \n",
       "Data Accessibility and Self-Service                                      0.124   \n",
       "Real-time Data and Decision Making                                       0.168   \n",
       "Standardization and Governance                                           0.124   \n",
       "Training and Empowerment                                                 0.014   \n",
       "\n",
       "industry                             administrative and support service activities  \\\n",
       "Automated Workflows and Efficiency                                           0.099   \n",
       "Collaboration and Integration                                                0.236   \n",
       "Cultural Change and Adoption                                                 0.103   \n",
       "Customized and Tailored Solutions                                            0.084   \n",
       "Data Accessibility and Self-Service                                          0.171   \n",
       "Real-time Data and Decision Making                                           0.175   \n",
       "Standardization and Governance                                               0.086   \n",
       "Training and Empowerment                                                     0.044   \n",
       "\n",
       "industry                             agriculture, forestry and fishing  \\\n",
       "Automated Workflows and Efficiency                               0.134   \n",
       "Collaboration and Integration                                    0.224   \n",
       "Cultural Change and Adoption                                     0.060   \n",
       "Customized and Tailored Solutions                                0.104   \n",
       "Data Accessibility and Self-Service                              0.149   \n",
       "Real-time Data and Decision Making                               0.179   \n",
       "Standardization and Governance                                   0.104   \n",
       "Training and Empowerment                                         0.045   \n",
       "\n",
       "industry                             arts, entertainment and recreation  \\\n",
       "Automated Workflows and Efficiency                                0.071   \n",
       "Collaboration and Integration                                     0.222   \n",
       "Cultural Change and Adoption                                      0.131   \n",
       "Customized and Tailored Solutions                                 0.121   \n",
       "Data Accessibility and Self-Service                               0.167   \n",
       "Real-time Data and Decision Making                                0.162   \n",
       "Standardization and Governance                                    0.081   \n",
       "Training and Empowerment                                          0.045   \n",
       "\n",
       "industry                             construction  education  \\\n",
       "Automated Workflows and Efficiency          0.153      0.052   \n",
       "Collaboration and Integration               0.231      0.227   \n",
       "Cultural Change and Adoption                0.099      0.147   \n",
       "Customized and Tailored Solutions           0.099      0.109   \n",
       "Data Accessibility and Self-Service         0.124      0.181   \n",
       "Real-time Data and Decision Making          0.156      0.144   \n",
       "Standardization and Governance              0.094      0.092   \n",
       "Training and Empowerment                    0.043      0.049   \n",
       "\n",
       "industry                             electricity, gas, steam and air conditioning supply  \\\n",
       "Automated Workflows and Efficiency                                               0.116     \n",
       "Collaboration and Integration                                                    0.228     \n",
       "Cultural Change and Adoption                                                     0.090     \n",
       "Customized and Tailored Solutions                                                0.110     \n",
       "Data Accessibility and Self-Service                                              0.127     \n",
       "Real-time Data and Decision Making                                               0.153     \n",
       "Standardization and Governance                                                   0.113     \n",
       "Training and Empowerment                                                         0.064     \n",
       "\n",
       "industry                             financial and insurance activities  \\\n",
       "Automated Workflows and Efficiency                                0.106   \n",
       "Collaboration and Integration                                     0.233   \n",
       "Cultural Change and Adoption                                      0.107   \n",
       "Customized and Tailored Solutions                                 0.090   \n",
       "Data Accessibility and Self-Service                               0.132   \n",
       "Real-time Data and Decision Making                                0.158   \n",
       "Standardization and Governance                                    0.120   \n",
       "Training and Empowerment                                          0.053   \n",
       "\n",
       "industry                             human health and social work activities  \\\n",
       "Automated Workflows and Efficiency                                     0.091   \n",
       "Collaboration and Integration                                          0.231   \n",
       "Cultural Change and Adoption                                           0.103   \n",
       "Customized and Tailored Solutions                                      0.095   \n",
       "Data Accessibility and Self-Service                                    0.155   \n",
       "Real-time Data and Decision Making                                     0.165   \n",
       "Standardization and Governance                                         0.115   \n",
       "Training and Empowerment                                               0.046   \n",
       "\n",
       "industry                             information and communication  \\\n",
       "Automated Workflows and Efficiency                           0.123   \n",
       "Collaboration and Integration                                0.243   \n",
       "Cultural Change and Adoption                                 0.095   \n",
       "Customized and Tailored Solutions                            0.116   \n",
       "Data Accessibility and Self-Service                          0.137   \n",
       "Real-time Data and Decision Making                           0.188   \n",
       "Standardization and Governance                               0.068   \n",
       "Training and Empowerment                                     0.030   \n",
       "\n",
       "industry                             manufacturing  mining and quarrying  \\\n",
       "Automated Workflows and Efficiency           0.125                 0.105   \n",
       "Collaboration and Integration                0.234                 0.263   \n",
       "Cultural Change and Adoption                 0.104                 0.000   \n",
       "Customized and Tailored Solutions            0.077                 0.211   \n",
       "Data Accessibility and Self-Service          0.157                 0.158   \n",
       "Real-time Data and Decision Making           0.147                 0.158   \n",
       "Standardization and Governance               0.108                 0.105   \n",
       "Training and Empowerment                     0.049                 0.000   \n",
       "\n",
       "industry                             other  other service activities  \\\n",
       "Automated Workflows and Efficiency   0.121                     0.062   \n",
       "Collaboration and Integration        0.242                     0.234   \n",
       "Cultural Change and Adoption         0.121                     0.109   \n",
       "Customized and Tailored Solutions    0.061                     0.125   \n",
       "Data Accessibility and Self-Service  0.212                     0.156   \n",
       "Real-time Data and Decision Making   0.121                     0.125   \n",
       "Standardization and Governance       0.091                     0.109   \n",
       "Training and Empowerment             0.030                     0.078   \n",
       "\n",
       "industry                             professional, scientific and technical activities  \\\n",
       "Automated Workflows and Efficiency                                               0.127   \n",
       "Collaboration and Integration                                                    0.240   \n",
       "Cultural Change and Adoption                                                     0.094   \n",
       "Customized and Tailored Solutions                                                0.117   \n",
       "Data Accessibility and Self-Service                                              0.144   \n",
       "Real-time Data and Decision Making                                               0.172   \n",
       "Standardization and Governance                                                   0.075   \n",
       "Training and Empowerment                                                         0.030   \n",
       "\n",
       "industry                             public administration and defence; compulsory social security  \\\n",
       "Automated Workflows and Efficiency                                               0.111               \n",
       "Collaboration and Integration                                                    0.228               \n",
       "Cultural Change and Adoption                                                     0.105               \n",
       "Customized and Tailored Solutions                                                0.074               \n",
       "Data Accessibility and Self-Service                                              0.160               \n",
       "Real-time Data and Decision Making                                               0.173               \n",
       "Standardization and Governance                                                   0.123               \n",
       "Training and Empowerment                                                         0.025               \n",
       "\n",
       "industry                             real estate activities  \\\n",
       "Automated Workflows and Efficiency                    0.161   \n",
       "Collaboration and Integration                         0.205   \n",
       "Cultural Change and Adoption                          0.098   \n",
       "Customized and Tailored Solutions                     0.107   \n",
       "Data Accessibility and Self-Service                   0.152   \n",
       "Real-time Data and Decision Making                    0.170   \n",
       "Standardization and Governance                        0.071   \n",
       "Training and Empowerment                              0.036   \n",
       "\n",
       "industry                             transportation and storage  \\\n",
       "Automated Workflows and Efficiency                        0.091   \n",
       "Collaboration and Integration                             0.216   \n",
       "Cultural Change and Adoption                              0.132   \n",
       "Customized and Tailored Solutions                         0.115   \n",
       "Data Accessibility and Self-Service                       0.160   \n",
       "Real-time Data and Decision Making                        0.178   \n",
       "Standardization and Governance                            0.080   \n",
       "Training and Empowerment                                  0.028   \n",
       "\n",
       "industry                             water supply; sewerage, waste management and remediation activities  \\\n",
       "Automated Workflows and Efficiency                                               0.146                     \n",
       "Collaboration and Integration                                                    0.268                     \n",
       "Cultural Change and Adoption                                                     0.073                     \n",
       "Customized and Tailored Solutions                                                0.122                     \n",
       "Data Accessibility and Self-Service                                              0.073                     \n",
       "Real-time Data and Decision Making                                               0.195                     \n",
       "Standardization and Governance                                                   0.098                     \n",
       "Training and Empowerment                                                         0.024                     \n",
       "\n",
       "industry                             wholesale and retail trade  \n",
       "Automated Workflows and Efficiency                        0.124  \n",
       "Collaboration and Integration                             0.240  \n",
       "Cultural Change and Adoption                              0.104  \n",
       "Customized and Tailored Solutions                         0.097  \n",
       "Data Accessibility and Self-Service                       0.128  \n",
       "Real-time Data and Decision Making                        0.180  \n",
       "Standardization and Governance                            0.089  \n",
       "Training and Empowerment                                  0.038  "
      ]
     },
     "execution_count": 159,
     "metadata": {},
     "output_type": "execute_result"
    }
   ],
   "source": [
    "industry_results_perc.head(25)"
   ]
  },
  {
   "cell_type": "code",
   "execution_count": 160,
   "metadata": {},
   "outputs": [],
   "source": [
    "industry_results.reset_index(inplace=True)\n",
    "industry_results.drop(['industry'], axis=1, inplace=True)"
   ]
  },
  {
   "cell_type": "code",
   "execution_count": 161,
   "metadata": {},
   "outputs": [
    {
     "data": {
      "application/vnd.plotly.v1+json": {
       "config": {
        "plotlyServerURL": "https://plot.ly"
       },
       "data": [
        {
         "boxpoints": "all",
         "line": {
          "width": 1
         },
         "marker": {
          "size": 2
         },
         "name": "Automated Workflows and Efficiency",
         "type": "box",
         "x": [
          12.4,
          9.9,
          13.4,
          7.1,
          15.299999999999999,
          5.2,
          11.600000000000001,
          10.6,
          9.1,
          12.3,
          12.5,
          10.5,
          12.1,
          6.2,
          12.7,
          11.1,
          16.1,
          9.1,
          14.6,
          12.4
         ]
        },
        {
         "boxpoints": "all",
         "line": {
          "width": 1
         },
         "marker": {
          "size": 2
         },
         "name": "Collaboration and Integration",
         "type": "box",
         "x": [
          23.3,
          23.599999999999998,
          22.400000000000002,
          22.2,
          23.1,
          22.7,
          22.8,
          23.3,
          23.1,
          24.3,
          23.400000000000002,
          26.3,
          24.2,
          23.400000000000002,
          24,
          22.8,
          20.5,
          21.6,
          26.8,
          24
         ]
        },
        {
         "boxpoints": "all",
         "line": {
          "width": 1
         },
         "marker": {
          "size": 2
         },
         "name": "Cultural Change and Adoption",
         "type": "box",
         "x": [
          10.299999999999999,
          10.299999999999999,
          6,
          13.100000000000001,
          9.9,
          14.7,
          9,
          10.7,
          10.299999999999999,
          9.5,
          10.4,
          0,
          12.1,
          10.9,
          9.4,
          10.5,
          9.8,
          13.200000000000001,
          7.3,
          10.4
         ]
        },
        {
         "boxpoints": "all",
         "line": {
          "width": 1
         },
         "marker": {
          "size": 2
         },
         "name": "Customized and Tailored Solutions",
         "type": "box",
         "x": [
          11.200000000000001,
          8.4,
          10.4,
          12.1,
          9.9,
          10.9,
          11,
          9,
          9.5,
          11.600000000000001,
          7.7,
          21.099999999999998,
          6.1,
          12.5,
          11.700000000000001,
          7.3999999999999995,
          10.7,
          11.5,
          12.2,
          9.700000000000001
         ]
        },
        {
         "boxpoints": "all",
         "line": {
          "width": 1
         },
         "marker": {
          "size": 2
         },
         "name": "Data Accessibility and Self-Service",
         "type": "box",
         "x": [
          12.4,
          17.1,
          14.899999999999999,
          16.7,
          12.4,
          18.099999999999998,
          12.7,
          13.200000000000001,
          15.5,
          13.700000000000001,
          15.7,
          15.8,
          21.2,
          15.6,
          14.399999999999999,
          16,
          15.2,
          16,
          7.3,
          12.8
         ]
        },
        {
         "boxpoints": "all",
         "line": {
          "width": 1
         },
         "marker": {
          "size": 2
         },
         "name": "Real-time Data and Decision Making",
         "type": "box",
         "x": [
          16.8,
          17.5,
          17.9,
          16.2,
          15.6,
          14.399999999999999,
          15.299999999999999,
          15.8,
          16.5,
          18.8,
          14.7,
          15.8,
          12.1,
          12.5,
          17.2,
          17.299999999999997,
          17,
          17.8,
          19.5,
          18
         ]
        },
        {
         "boxpoints": "all",
         "line": {
          "width": 1
         },
         "marker": {
          "size": 2
         },
         "name": "Standardization and Governance",
         "type": "box",
         "x": [
          12.4,
          8.6,
          10.4,
          8.1,
          9.4,
          9.2,
          11.3,
          12,
          11.5,
          6.800000000000001,
          10.8,
          10.5,
          9.1,
          10.9,
          7.5,
          12.3,
          7.1,
          8,
          9.8,
          8.9
         ]
        },
        {
         "boxpoints": "all",
         "line": {
          "width": 1
         },
         "marker": {
          "size": 2
         },
         "name": "Training and Empowerment",
         "type": "box",
         "x": [
          1.4000000000000001,
          4.3999999999999995,
          4.5,
          4.5,
          4.3,
          4.9,
          6.4,
          5.3,
          4.6,
          3,
          4.9,
          0,
          3,
          7.8,
          3,
          2.5,
          3.5999999999999996,
          2.8000000000000003,
          2.4,
          3.8
         ]
        }
       ],
       "layout": {
        "autosize": false,
        "height": 600,
        "margin": {
         "b": 80,
         "l": 40,
         "r": 30,
         "t": 100
        },
        "showlegend": false,
        "template": {
         "data": {
          "bar": [
           {
            "error_x": {
             "color": "rgb(36,36,36)"
            },
            "error_y": {
             "color": "rgb(36,36,36)"
            },
            "marker": {
             "line": {
              "color": "white",
              "width": 0.5
             },
             "pattern": {
              "fillmode": "overlay",
              "size": 10,
              "solidity": 0.2
             }
            },
            "type": "bar"
           }
          ],
          "barpolar": [
           {
            "marker": {
             "line": {
              "color": "white",
              "width": 0.5
             },
             "pattern": {
              "fillmode": "overlay",
              "size": 10,
              "solidity": 0.2
             }
            },
            "type": "barpolar"
           }
          ],
          "carpet": [
           {
            "aaxis": {
             "endlinecolor": "rgb(36,36,36)",
             "gridcolor": "white",
             "linecolor": "white",
             "minorgridcolor": "white",
             "startlinecolor": "rgb(36,36,36)"
            },
            "baxis": {
             "endlinecolor": "rgb(36,36,36)",
             "gridcolor": "white",
             "linecolor": "white",
             "minorgridcolor": "white",
             "startlinecolor": "rgb(36,36,36)"
            },
            "type": "carpet"
           }
          ],
          "choropleth": [
           {
            "colorbar": {
             "outlinewidth": 1,
             "tickcolor": "rgb(36,36,36)",
             "ticks": "outside"
            },
            "type": "choropleth"
           }
          ],
          "contour": [
           {
            "colorbar": {
             "outlinewidth": 1,
             "tickcolor": "rgb(36,36,36)",
             "ticks": "outside"
            },
            "colorscale": [
             [
              0,
              "#440154"
             ],
             [
              0.1111111111111111,
              "#482878"
             ],
             [
              0.2222222222222222,
              "#3e4989"
             ],
             [
              0.3333333333333333,
              "#31688e"
             ],
             [
              0.4444444444444444,
              "#26828e"
             ],
             [
              0.5555555555555556,
              "#1f9e89"
             ],
             [
              0.6666666666666666,
              "#35b779"
             ],
             [
              0.7777777777777778,
              "#6ece58"
             ],
             [
              0.8888888888888888,
              "#b5de2b"
             ],
             [
              1,
              "#fde725"
             ]
            ],
            "type": "contour"
           }
          ],
          "contourcarpet": [
           {
            "colorbar": {
             "outlinewidth": 1,
             "tickcolor": "rgb(36,36,36)",
             "ticks": "outside"
            },
            "type": "contourcarpet"
           }
          ],
          "heatmap": [
           {
            "colorbar": {
             "outlinewidth": 1,
             "tickcolor": "rgb(36,36,36)",
             "ticks": "outside"
            },
            "colorscale": [
             [
              0,
              "#440154"
             ],
             [
              0.1111111111111111,
              "#482878"
             ],
             [
              0.2222222222222222,
              "#3e4989"
             ],
             [
              0.3333333333333333,
              "#31688e"
             ],
             [
              0.4444444444444444,
              "#26828e"
             ],
             [
              0.5555555555555556,
              "#1f9e89"
             ],
             [
              0.6666666666666666,
              "#35b779"
             ],
             [
              0.7777777777777778,
              "#6ece58"
             ],
             [
              0.8888888888888888,
              "#b5de2b"
             ],
             [
              1,
              "#fde725"
             ]
            ],
            "type": "heatmap"
           }
          ],
          "heatmapgl": [
           {
            "colorbar": {
             "outlinewidth": 1,
             "tickcolor": "rgb(36,36,36)",
             "ticks": "outside"
            },
            "colorscale": [
             [
              0,
              "#440154"
             ],
             [
              0.1111111111111111,
              "#482878"
             ],
             [
              0.2222222222222222,
              "#3e4989"
             ],
             [
              0.3333333333333333,
              "#31688e"
             ],
             [
              0.4444444444444444,
              "#26828e"
             ],
             [
              0.5555555555555556,
              "#1f9e89"
             ],
             [
              0.6666666666666666,
              "#35b779"
             ],
             [
              0.7777777777777778,
              "#6ece58"
             ],
             [
              0.8888888888888888,
              "#b5de2b"
             ],
             [
              1,
              "#fde725"
             ]
            ],
            "type": "heatmapgl"
           }
          ],
          "histogram": [
           {
            "marker": {
             "line": {
              "color": "white",
              "width": 0.6
             }
            },
            "type": "histogram"
           }
          ],
          "histogram2d": [
           {
            "colorbar": {
             "outlinewidth": 1,
             "tickcolor": "rgb(36,36,36)",
             "ticks": "outside"
            },
            "colorscale": [
             [
              0,
              "#440154"
             ],
             [
              0.1111111111111111,
              "#482878"
             ],
             [
              0.2222222222222222,
              "#3e4989"
             ],
             [
              0.3333333333333333,
              "#31688e"
             ],
             [
              0.4444444444444444,
              "#26828e"
             ],
             [
              0.5555555555555556,
              "#1f9e89"
             ],
             [
              0.6666666666666666,
              "#35b779"
             ],
             [
              0.7777777777777778,
              "#6ece58"
             ],
             [
              0.8888888888888888,
              "#b5de2b"
             ],
             [
              1,
              "#fde725"
             ]
            ],
            "type": "histogram2d"
           }
          ],
          "histogram2dcontour": [
           {
            "colorbar": {
             "outlinewidth": 1,
             "tickcolor": "rgb(36,36,36)",
             "ticks": "outside"
            },
            "colorscale": [
             [
              0,
              "#440154"
             ],
             [
              0.1111111111111111,
              "#482878"
             ],
             [
              0.2222222222222222,
              "#3e4989"
             ],
             [
              0.3333333333333333,
              "#31688e"
             ],
             [
              0.4444444444444444,
              "#26828e"
             ],
             [
              0.5555555555555556,
              "#1f9e89"
             ],
             [
              0.6666666666666666,
              "#35b779"
             ],
             [
              0.7777777777777778,
              "#6ece58"
             ],
             [
              0.8888888888888888,
              "#b5de2b"
             ],
             [
              1,
              "#fde725"
             ]
            ],
            "type": "histogram2dcontour"
           }
          ],
          "mesh3d": [
           {
            "colorbar": {
             "outlinewidth": 1,
             "tickcolor": "rgb(36,36,36)",
             "ticks": "outside"
            },
            "type": "mesh3d"
           }
          ],
          "parcoords": [
           {
            "line": {
             "colorbar": {
              "outlinewidth": 1,
              "tickcolor": "rgb(36,36,36)",
              "ticks": "outside"
             }
            },
            "type": "parcoords"
           }
          ],
          "pie": [
           {
            "automargin": true,
            "type": "pie"
           }
          ],
          "scatter": [
           {
            "fillpattern": {
             "fillmode": "overlay",
             "size": 10,
             "solidity": 0.2
            },
            "type": "scatter"
           }
          ],
          "scatter3d": [
           {
            "line": {
             "colorbar": {
              "outlinewidth": 1,
              "tickcolor": "rgb(36,36,36)",
              "ticks": "outside"
             }
            },
            "marker": {
             "colorbar": {
              "outlinewidth": 1,
              "tickcolor": "rgb(36,36,36)",
              "ticks": "outside"
             }
            },
            "type": "scatter3d"
           }
          ],
          "scattercarpet": [
           {
            "marker": {
             "colorbar": {
              "outlinewidth": 1,
              "tickcolor": "rgb(36,36,36)",
              "ticks": "outside"
             }
            },
            "type": "scattercarpet"
           }
          ],
          "scattergeo": [
           {
            "marker": {
             "colorbar": {
              "outlinewidth": 1,
              "tickcolor": "rgb(36,36,36)",
              "ticks": "outside"
             }
            },
            "type": "scattergeo"
           }
          ],
          "scattergl": [
           {
            "marker": {
             "colorbar": {
              "outlinewidth": 1,
              "tickcolor": "rgb(36,36,36)",
              "ticks": "outside"
             }
            },
            "type": "scattergl"
           }
          ],
          "scattermapbox": [
           {
            "marker": {
             "colorbar": {
              "outlinewidth": 1,
              "tickcolor": "rgb(36,36,36)",
              "ticks": "outside"
             }
            },
            "type": "scattermapbox"
           }
          ],
          "scatterpolar": [
           {
            "marker": {
             "colorbar": {
              "outlinewidth": 1,
              "tickcolor": "rgb(36,36,36)",
              "ticks": "outside"
             }
            },
            "type": "scatterpolar"
           }
          ],
          "scatterpolargl": [
           {
            "marker": {
             "colorbar": {
              "outlinewidth": 1,
              "tickcolor": "rgb(36,36,36)",
              "ticks": "outside"
             }
            },
            "type": "scatterpolargl"
           }
          ],
          "scatterternary": [
           {
            "marker": {
             "colorbar": {
              "outlinewidth": 1,
              "tickcolor": "rgb(36,36,36)",
              "ticks": "outside"
             }
            },
            "type": "scatterternary"
           }
          ],
          "surface": [
           {
            "colorbar": {
             "outlinewidth": 1,
             "tickcolor": "rgb(36,36,36)",
             "ticks": "outside"
            },
            "colorscale": [
             [
              0,
              "#440154"
             ],
             [
              0.1111111111111111,
              "#482878"
             ],
             [
              0.2222222222222222,
              "#3e4989"
             ],
             [
              0.3333333333333333,
              "#31688e"
             ],
             [
              0.4444444444444444,
              "#26828e"
             ],
             [
              0.5555555555555556,
              "#1f9e89"
             ],
             [
              0.6666666666666666,
              "#35b779"
             ],
             [
              0.7777777777777778,
              "#6ece58"
             ],
             [
              0.8888888888888888,
              "#b5de2b"
             ],
             [
              1,
              "#fde725"
             ]
            ],
            "type": "surface"
           }
          ],
          "table": [
           {
            "cells": {
             "fill": {
              "color": "rgb(237,237,237)"
             },
             "line": {
              "color": "white"
             }
            },
            "header": {
             "fill": {
              "color": "rgb(217,217,217)"
             },
             "line": {
              "color": "white"
             }
            },
            "type": "table"
           }
          ]
         },
         "layout": {
          "annotationdefaults": {
           "arrowhead": 0,
           "arrowwidth": 1
          },
          "autotypenumbers": "strict",
          "coloraxis": {
           "colorbar": {
            "outlinewidth": 1,
            "tickcolor": "rgb(36,36,36)",
            "ticks": "outside"
           }
          },
          "colorscale": {
           "diverging": [
            [
             0,
             "rgb(103,0,31)"
            ],
            [
             0.1,
             "rgb(178,24,43)"
            ],
            [
             0.2,
             "rgb(214,96,77)"
            ],
            [
             0.3,
             "rgb(244,165,130)"
            ],
            [
             0.4,
             "rgb(253,219,199)"
            ],
            [
             0.5,
             "rgb(247,247,247)"
            ],
            [
             0.6,
             "rgb(209,229,240)"
            ],
            [
             0.7,
             "rgb(146,197,222)"
            ],
            [
             0.8,
             "rgb(67,147,195)"
            ],
            [
             0.9,
             "rgb(33,102,172)"
            ],
            [
             1,
             "rgb(5,48,97)"
            ]
           ],
           "sequential": [
            [
             0,
             "#440154"
            ],
            [
             0.1111111111111111,
             "#482878"
            ],
            [
             0.2222222222222222,
             "#3e4989"
            ],
            [
             0.3333333333333333,
             "#31688e"
            ],
            [
             0.4444444444444444,
             "#26828e"
            ],
            [
             0.5555555555555556,
             "#1f9e89"
            ],
            [
             0.6666666666666666,
             "#35b779"
            ],
            [
             0.7777777777777778,
             "#6ece58"
            ],
            [
             0.8888888888888888,
             "#b5de2b"
            ],
            [
             1,
             "#fde725"
            ]
           ],
           "sequentialminus": [
            [
             0,
             "#440154"
            ],
            [
             0.1111111111111111,
             "#482878"
            ],
            [
             0.2222222222222222,
             "#3e4989"
            ],
            [
             0.3333333333333333,
             "#31688e"
            ],
            [
             0.4444444444444444,
             "#26828e"
            ],
            [
             0.5555555555555556,
             "#1f9e89"
            ],
            [
             0.6666666666666666,
             "#35b779"
            ],
            [
             0.7777777777777778,
             "#6ece58"
            ],
            [
             0.8888888888888888,
             "#b5de2b"
            ],
            [
             1,
             "#fde725"
            ]
           ]
          },
          "colorway": [
           "#1F77B4",
           "#FF7F0E",
           "#2CA02C",
           "#D62728",
           "#9467BD",
           "#8C564B",
           "#E377C2",
           "#7F7F7F",
           "#BCBD22",
           "#17BECF"
          ],
          "font": {
           "color": "rgb(36,36,36)"
          },
          "geo": {
           "bgcolor": "white",
           "lakecolor": "white",
           "landcolor": "white",
           "showlakes": true,
           "showland": true,
           "subunitcolor": "white"
          },
          "hoverlabel": {
           "align": "left"
          },
          "hovermode": "closest",
          "mapbox": {
           "style": "light"
          },
          "paper_bgcolor": "white",
          "plot_bgcolor": "white",
          "polar": {
           "angularaxis": {
            "gridcolor": "rgb(232,232,232)",
            "linecolor": "rgb(36,36,36)",
            "showgrid": false,
            "showline": true,
            "ticks": "outside"
           },
           "bgcolor": "white",
           "radialaxis": {
            "gridcolor": "rgb(232,232,232)",
            "linecolor": "rgb(36,36,36)",
            "showgrid": false,
            "showline": true,
            "ticks": "outside"
           }
          },
          "scene": {
           "xaxis": {
            "backgroundcolor": "white",
            "gridcolor": "rgb(232,232,232)",
            "gridwidth": 2,
            "linecolor": "rgb(36,36,36)",
            "showbackground": true,
            "showgrid": false,
            "showline": true,
            "ticks": "outside",
            "zeroline": false,
            "zerolinecolor": "rgb(36,36,36)"
           },
           "yaxis": {
            "backgroundcolor": "white",
            "gridcolor": "rgb(232,232,232)",
            "gridwidth": 2,
            "linecolor": "rgb(36,36,36)",
            "showbackground": true,
            "showgrid": false,
            "showline": true,
            "ticks": "outside",
            "zeroline": false,
            "zerolinecolor": "rgb(36,36,36)"
           },
           "zaxis": {
            "backgroundcolor": "white",
            "gridcolor": "rgb(232,232,232)",
            "gridwidth": 2,
            "linecolor": "rgb(36,36,36)",
            "showbackground": true,
            "showgrid": false,
            "showline": true,
            "ticks": "outside",
            "zeroline": false,
            "zerolinecolor": "rgb(36,36,36)"
           }
          },
          "shapedefaults": {
           "fillcolor": "black",
           "line": {
            "width": 0
           },
           "opacity": 0.3
          },
          "ternary": {
           "aaxis": {
            "gridcolor": "rgb(232,232,232)",
            "linecolor": "rgb(36,36,36)",
            "showgrid": false,
            "showline": true,
            "ticks": "outside"
           },
           "baxis": {
            "gridcolor": "rgb(232,232,232)",
            "linecolor": "rgb(36,36,36)",
            "showgrid": false,
            "showline": true,
            "ticks": "outside"
           },
           "bgcolor": "white",
           "caxis": {
            "gridcolor": "rgb(232,232,232)",
            "linecolor": "rgb(36,36,36)",
            "showgrid": false,
            "showline": true,
            "ticks": "outside"
           }
          },
          "title": {
           "x": 0.05
          },
          "xaxis": {
           "automargin": true,
           "gridcolor": "rgb(232,232,232)",
           "linecolor": "rgb(36,36,36)",
           "showgrid": false,
           "showline": true,
           "ticks": "outside",
           "title": {
            "standoff": 15
           },
           "zeroline": false,
           "zerolinecolor": "rgb(36,36,36)"
          },
          "yaxis": {
           "automargin": true,
           "gridcolor": "rgb(232,232,232)",
           "linecolor": "rgb(36,36,36)",
           "showgrid": false,
           "showline": true,
           "ticks": "outside",
           "title": {
            "standoff": 15
           },
           "zeroline": false,
           "zerolinecolor": "rgb(36,36,36)"
          }
         }
        },
        "width": 1200,
        "xaxis": {
         "title": {
          "text": "Percentage"
         }
        },
        "yaxis": {
         "title": {
          "text": "Categories"
         }
        }
       }
      },
      "text/html": [
       "<div>                            <div id=\"16eb6b50-fb8b-42fe-8c97-a025ff683449\" class=\"plotly-graph-div\" style=\"height:600px; width:1200px;\"></div>            <script type=\"text/javascript\">                require([\"plotly\"], function(Plotly) {                    window.PLOTLYENV=window.PLOTLYENV || {};                                    if (document.getElementById(\"16eb6b50-fb8b-42fe-8c97-a025ff683449\")) {                    Plotly.newPlot(                        \"16eb6b50-fb8b-42fe-8c97-a025ff683449\",                        [{\"boxpoints\":\"all\",\"line\":{\"width\":1},\"marker\":{\"size\":2},\"name\":\"Automated Workflows and Efficiency\",\"x\":[12.4,9.9,13.4,7.1,15.299999999999999,5.2,11.600000000000001,10.6,9.1,12.3,12.5,10.5,12.1,6.2,12.7,11.1,16.1,9.1,14.6,12.4],\"type\":\"box\"},{\"boxpoints\":\"all\",\"line\":{\"width\":1},\"marker\":{\"size\":2},\"name\":\"Collaboration and Integration\",\"x\":[23.3,23.599999999999998,22.400000000000002,22.2,23.1,22.7,22.8,23.3,23.1,24.3,23.400000000000002,26.3,24.2,23.400000000000002,24.0,22.8,20.5,21.6,26.8,24.0],\"type\":\"box\"},{\"boxpoints\":\"all\",\"line\":{\"width\":1},\"marker\":{\"size\":2},\"name\":\"Cultural Change and Adoption\",\"x\":[10.299999999999999,10.299999999999999,6.0,13.100000000000001,9.9,14.7,9.0,10.7,10.299999999999999,9.5,10.4,0.0,12.1,10.9,9.4,10.5,9.8,13.200000000000001,7.3,10.4],\"type\":\"box\"},{\"boxpoints\":\"all\",\"line\":{\"width\":1},\"marker\":{\"size\":2},\"name\":\"Customized and Tailored Solutions\",\"x\":[11.200000000000001,8.4,10.4,12.1,9.9,10.9,11.0,9.0,9.5,11.600000000000001,7.7,21.099999999999998,6.1,12.5,11.700000000000001,7.3999999999999995,10.7,11.5,12.2,9.700000000000001],\"type\":\"box\"},{\"boxpoints\":\"all\",\"line\":{\"width\":1},\"marker\":{\"size\":2},\"name\":\"Data Accessibility and Self-Service\",\"x\":[12.4,17.1,14.899999999999999,16.7,12.4,18.099999999999998,12.7,13.200000000000001,15.5,13.700000000000001,15.7,15.8,21.2,15.6,14.399999999999999,16.0,15.2,16.0,7.3,12.8],\"type\":\"box\"},{\"boxpoints\":\"all\",\"line\":{\"width\":1},\"marker\":{\"size\":2},\"name\":\"Real-time Data and Decision Making\",\"x\":[16.8,17.5,17.9,16.2,15.6,14.399999999999999,15.299999999999999,15.8,16.5,18.8,14.7,15.8,12.1,12.5,17.2,17.299999999999997,17.0,17.8,19.5,18.0],\"type\":\"box\"},{\"boxpoints\":\"all\",\"line\":{\"width\":1},\"marker\":{\"size\":2},\"name\":\"Standardization and Governance\",\"x\":[12.4,8.6,10.4,8.1,9.4,9.2,11.3,12.0,11.5,6.800000000000001,10.8,10.5,9.1,10.9,7.5,12.3,7.1,8.0,9.8,8.9],\"type\":\"box\"},{\"boxpoints\":\"all\",\"line\":{\"width\":1},\"marker\":{\"size\":2},\"name\":\"Training and Empowerment\",\"x\":[1.4000000000000001,4.3999999999999995,4.5,4.5,4.3,4.9,6.4,5.3,4.6,3.0,4.9,0.0,3.0,7.8,3.0,2.5,3.5999999999999996,2.8000000000000003,2.4,3.8],\"type\":\"box\"}],                        {\"template\":{\"data\":{\"barpolar\":[{\"marker\":{\"line\":{\"color\":\"white\",\"width\":0.5},\"pattern\":{\"fillmode\":\"overlay\",\"size\":10,\"solidity\":0.2}},\"type\":\"barpolar\"}],\"bar\":[{\"error_x\":{\"color\":\"rgb(36,36,36)\"},\"error_y\":{\"color\":\"rgb(36,36,36)\"},\"marker\":{\"line\":{\"color\":\"white\",\"width\":0.5},\"pattern\":{\"fillmode\":\"overlay\",\"size\":10,\"solidity\":0.2}},\"type\":\"bar\"}],\"carpet\":[{\"aaxis\":{\"endlinecolor\":\"rgb(36,36,36)\",\"gridcolor\":\"white\",\"linecolor\":\"white\",\"minorgridcolor\":\"white\",\"startlinecolor\":\"rgb(36,36,36)\"},\"baxis\":{\"endlinecolor\":\"rgb(36,36,36)\",\"gridcolor\":\"white\",\"linecolor\":\"white\",\"minorgridcolor\":\"white\",\"startlinecolor\":\"rgb(36,36,36)\"},\"type\":\"carpet\"}],\"choropleth\":[{\"colorbar\":{\"outlinewidth\":1,\"tickcolor\":\"rgb(36,36,36)\",\"ticks\":\"outside\"},\"type\":\"choropleth\"}],\"contourcarpet\":[{\"colorbar\":{\"outlinewidth\":1,\"tickcolor\":\"rgb(36,36,36)\",\"ticks\":\"outside\"},\"type\":\"contourcarpet\"}],\"contour\":[{\"colorbar\":{\"outlinewidth\":1,\"tickcolor\":\"rgb(36,36,36)\",\"ticks\":\"outside\"},\"colorscale\":[[0.0,\"#440154\"],[0.1111111111111111,\"#482878\"],[0.2222222222222222,\"#3e4989\"],[0.3333333333333333,\"#31688e\"],[0.4444444444444444,\"#26828e\"],[0.5555555555555556,\"#1f9e89\"],[0.6666666666666666,\"#35b779\"],[0.7777777777777778,\"#6ece58\"],[0.8888888888888888,\"#b5de2b\"],[1.0,\"#fde725\"]],\"type\":\"contour\"}],\"heatmapgl\":[{\"colorbar\":{\"outlinewidth\":1,\"tickcolor\":\"rgb(36,36,36)\",\"ticks\":\"outside\"},\"colorscale\":[[0.0,\"#440154\"],[0.1111111111111111,\"#482878\"],[0.2222222222222222,\"#3e4989\"],[0.3333333333333333,\"#31688e\"],[0.4444444444444444,\"#26828e\"],[0.5555555555555556,\"#1f9e89\"],[0.6666666666666666,\"#35b779\"],[0.7777777777777778,\"#6ece58\"],[0.8888888888888888,\"#b5de2b\"],[1.0,\"#fde725\"]],\"type\":\"heatmapgl\"}],\"heatmap\":[{\"colorbar\":{\"outlinewidth\":1,\"tickcolor\":\"rgb(36,36,36)\",\"ticks\":\"outside\"},\"colorscale\":[[0.0,\"#440154\"],[0.1111111111111111,\"#482878\"],[0.2222222222222222,\"#3e4989\"],[0.3333333333333333,\"#31688e\"],[0.4444444444444444,\"#26828e\"],[0.5555555555555556,\"#1f9e89\"],[0.6666666666666666,\"#35b779\"],[0.7777777777777778,\"#6ece58\"],[0.8888888888888888,\"#b5de2b\"],[1.0,\"#fde725\"]],\"type\":\"heatmap\"}],\"histogram2dcontour\":[{\"colorbar\":{\"outlinewidth\":1,\"tickcolor\":\"rgb(36,36,36)\",\"ticks\":\"outside\"},\"colorscale\":[[0.0,\"#440154\"],[0.1111111111111111,\"#482878\"],[0.2222222222222222,\"#3e4989\"],[0.3333333333333333,\"#31688e\"],[0.4444444444444444,\"#26828e\"],[0.5555555555555556,\"#1f9e89\"],[0.6666666666666666,\"#35b779\"],[0.7777777777777778,\"#6ece58\"],[0.8888888888888888,\"#b5de2b\"],[1.0,\"#fde725\"]],\"type\":\"histogram2dcontour\"}],\"histogram2d\":[{\"colorbar\":{\"outlinewidth\":1,\"tickcolor\":\"rgb(36,36,36)\",\"ticks\":\"outside\"},\"colorscale\":[[0.0,\"#440154\"],[0.1111111111111111,\"#482878\"],[0.2222222222222222,\"#3e4989\"],[0.3333333333333333,\"#31688e\"],[0.4444444444444444,\"#26828e\"],[0.5555555555555556,\"#1f9e89\"],[0.6666666666666666,\"#35b779\"],[0.7777777777777778,\"#6ece58\"],[0.8888888888888888,\"#b5de2b\"],[1.0,\"#fde725\"]],\"type\":\"histogram2d\"}],\"histogram\":[{\"marker\":{\"line\":{\"color\":\"white\",\"width\":0.6}},\"type\":\"histogram\"}],\"mesh3d\":[{\"colorbar\":{\"outlinewidth\":1,\"tickcolor\":\"rgb(36,36,36)\",\"ticks\":\"outside\"},\"type\":\"mesh3d\"}],\"parcoords\":[{\"line\":{\"colorbar\":{\"outlinewidth\":1,\"tickcolor\":\"rgb(36,36,36)\",\"ticks\":\"outside\"}},\"type\":\"parcoords\"}],\"pie\":[{\"automargin\":true,\"type\":\"pie\"}],\"scatter3d\":[{\"line\":{\"colorbar\":{\"outlinewidth\":1,\"tickcolor\":\"rgb(36,36,36)\",\"ticks\":\"outside\"}},\"marker\":{\"colorbar\":{\"outlinewidth\":1,\"tickcolor\":\"rgb(36,36,36)\",\"ticks\":\"outside\"}},\"type\":\"scatter3d\"}],\"scattercarpet\":[{\"marker\":{\"colorbar\":{\"outlinewidth\":1,\"tickcolor\":\"rgb(36,36,36)\",\"ticks\":\"outside\"}},\"type\":\"scattercarpet\"}],\"scattergeo\":[{\"marker\":{\"colorbar\":{\"outlinewidth\":1,\"tickcolor\":\"rgb(36,36,36)\",\"ticks\":\"outside\"}},\"type\":\"scattergeo\"}],\"scattergl\":[{\"marker\":{\"colorbar\":{\"outlinewidth\":1,\"tickcolor\":\"rgb(36,36,36)\",\"ticks\":\"outside\"}},\"type\":\"scattergl\"}],\"scattermapbox\":[{\"marker\":{\"colorbar\":{\"outlinewidth\":1,\"tickcolor\":\"rgb(36,36,36)\",\"ticks\":\"outside\"}},\"type\":\"scattermapbox\"}],\"scatterpolargl\":[{\"marker\":{\"colorbar\":{\"outlinewidth\":1,\"tickcolor\":\"rgb(36,36,36)\",\"ticks\":\"outside\"}},\"type\":\"scatterpolargl\"}],\"scatterpolar\":[{\"marker\":{\"colorbar\":{\"outlinewidth\":1,\"tickcolor\":\"rgb(36,36,36)\",\"ticks\":\"outside\"}},\"type\":\"scatterpolar\"}],\"scatter\":[{\"fillpattern\":{\"fillmode\":\"overlay\",\"size\":10,\"solidity\":0.2},\"type\":\"scatter\"}],\"scatterternary\":[{\"marker\":{\"colorbar\":{\"outlinewidth\":1,\"tickcolor\":\"rgb(36,36,36)\",\"ticks\":\"outside\"}},\"type\":\"scatterternary\"}],\"surface\":[{\"colorbar\":{\"outlinewidth\":1,\"tickcolor\":\"rgb(36,36,36)\",\"ticks\":\"outside\"},\"colorscale\":[[0.0,\"#440154\"],[0.1111111111111111,\"#482878\"],[0.2222222222222222,\"#3e4989\"],[0.3333333333333333,\"#31688e\"],[0.4444444444444444,\"#26828e\"],[0.5555555555555556,\"#1f9e89\"],[0.6666666666666666,\"#35b779\"],[0.7777777777777778,\"#6ece58\"],[0.8888888888888888,\"#b5de2b\"],[1.0,\"#fde725\"]],\"type\":\"surface\"}],\"table\":[{\"cells\":{\"fill\":{\"color\":\"rgb(237,237,237)\"},\"line\":{\"color\":\"white\"}},\"header\":{\"fill\":{\"color\":\"rgb(217,217,217)\"},\"line\":{\"color\":\"white\"}},\"type\":\"table\"}]},\"layout\":{\"annotationdefaults\":{\"arrowhead\":0,\"arrowwidth\":1},\"autotypenumbers\":\"strict\",\"coloraxis\":{\"colorbar\":{\"outlinewidth\":1,\"tickcolor\":\"rgb(36,36,36)\",\"ticks\":\"outside\"}},\"colorscale\":{\"diverging\":[[0.0,\"rgb(103,0,31)\"],[0.1,\"rgb(178,24,43)\"],[0.2,\"rgb(214,96,77)\"],[0.3,\"rgb(244,165,130)\"],[0.4,\"rgb(253,219,199)\"],[0.5,\"rgb(247,247,247)\"],[0.6,\"rgb(209,229,240)\"],[0.7,\"rgb(146,197,222)\"],[0.8,\"rgb(67,147,195)\"],[0.9,\"rgb(33,102,172)\"],[1.0,\"rgb(5,48,97)\"]],\"sequential\":[[0.0,\"#440154\"],[0.1111111111111111,\"#482878\"],[0.2222222222222222,\"#3e4989\"],[0.3333333333333333,\"#31688e\"],[0.4444444444444444,\"#26828e\"],[0.5555555555555556,\"#1f9e89\"],[0.6666666666666666,\"#35b779\"],[0.7777777777777778,\"#6ece58\"],[0.8888888888888888,\"#b5de2b\"],[1.0,\"#fde725\"]],\"sequentialminus\":[[0.0,\"#440154\"],[0.1111111111111111,\"#482878\"],[0.2222222222222222,\"#3e4989\"],[0.3333333333333333,\"#31688e\"],[0.4444444444444444,\"#26828e\"],[0.5555555555555556,\"#1f9e89\"],[0.6666666666666666,\"#35b779\"],[0.7777777777777778,\"#6ece58\"],[0.8888888888888888,\"#b5de2b\"],[1.0,\"#fde725\"]]},\"colorway\":[\"#1F77B4\",\"#FF7F0E\",\"#2CA02C\",\"#D62728\",\"#9467BD\",\"#8C564B\",\"#E377C2\",\"#7F7F7F\",\"#BCBD22\",\"#17BECF\"],\"font\":{\"color\":\"rgb(36,36,36)\"},\"geo\":{\"bgcolor\":\"white\",\"lakecolor\":\"white\",\"landcolor\":\"white\",\"showlakes\":true,\"showland\":true,\"subunitcolor\":\"white\"},\"hoverlabel\":{\"align\":\"left\"},\"hovermode\":\"closest\",\"mapbox\":{\"style\":\"light\"},\"paper_bgcolor\":\"white\",\"plot_bgcolor\":\"white\",\"polar\":{\"angularaxis\":{\"gridcolor\":\"rgb(232,232,232)\",\"linecolor\":\"rgb(36,36,36)\",\"showgrid\":false,\"showline\":true,\"ticks\":\"outside\"},\"bgcolor\":\"white\",\"radialaxis\":{\"gridcolor\":\"rgb(232,232,232)\",\"linecolor\":\"rgb(36,36,36)\",\"showgrid\":false,\"showline\":true,\"ticks\":\"outside\"}},\"scene\":{\"xaxis\":{\"backgroundcolor\":\"white\",\"gridcolor\":\"rgb(232,232,232)\",\"gridwidth\":2,\"linecolor\":\"rgb(36,36,36)\",\"showbackground\":true,\"showgrid\":false,\"showline\":true,\"ticks\":\"outside\",\"zeroline\":false,\"zerolinecolor\":\"rgb(36,36,36)\"},\"yaxis\":{\"backgroundcolor\":\"white\",\"gridcolor\":\"rgb(232,232,232)\",\"gridwidth\":2,\"linecolor\":\"rgb(36,36,36)\",\"showbackground\":true,\"showgrid\":false,\"showline\":true,\"ticks\":\"outside\",\"zeroline\":false,\"zerolinecolor\":\"rgb(36,36,36)\"},\"zaxis\":{\"backgroundcolor\":\"white\",\"gridcolor\":\"rgb(232,232,232)\",\"gridwidth\":2,\"linecolor\":\"rgb(36,36,36)\",\"showbackground\":true,\"showgrid\":false,\"showline\":true,\"ticks\":\"outside\",\"zeroline\":false,\"zerolinecolor\":\"rgb(36,36,36)\"}},\"shapedefaults\":{\"fillcolor\":\"black\",\"line\":{\"width\":0},\"opacity\":0.3},\"ternary\":{\"aaxis\":{\"gridcolor\":\"rgb(232,232,232)\",\"linecolor\":\"rgb(36,36,36)\",\"showgrid\":false,\"showline\":true,\"ticks\":\"outside\"},\"baxis\":{\"gridcolor\":\"rgb(232,232,232)\",\"linecolor\":\"rgb(36,36,36)\",\"showgrid\":false,\"showline\":true,\"ticks\":\"outside\"},\"bgcolor\":\"white\",\"caxis\":{\"gridcolor\":\"rgb(232,232,232)\",\"linecolor\":\"rgb(36,36,36)\",\"showgrid\":false,\"showline\":true,\"ticks\":\"outside\"}},\"title\":{\"x\":0.05},\"xaxis\":{\"automargin\":true,\"gridcolor\":\"rgb(232,232,232)\",\"linecolor\":\"rgb(36,36,36)\",\"showgrid\":false,\"showline\":true,\"ticks\":\"outside\",\"title\":{\"standoff\":15},\"zeroline\":false,\"zerolinecolor\":\"rgb(36,36,36)\"},\"yaxis\":{\"automargin\":true,\"gridcolor\":\"rgb(232,232,232)\",\"linecolor\":\"rgb(36,36,36)\",\"showgrid\":false,\"showline\":true,\"ticks\":\"outside\",\"title\":{\"standoff\":15},\"zeroline\":false,\"zerolinecolor\":\"rgb(36,36,36)\"}}},\"margin\":{\"l\":40,\"r\":30,\"b\":80,\"t\":100},\"showlegend\":false,\"xaxis\":{\"title\":{\"text\":\"Percentage\"}},\"yaxis\":{\"title\":{\"text\":\"Categories\"}},\"height\":600,\"width\":1200,\"autosize\":false},                        {\"responsive\": true}                    ).then(function(){\n",
       "                            \n",
       "var gd = document.getElementById('16eb6b50-fb8b-42fe-8c97-a025ff683449');\n",
       "var x = new MutationObserver(function (mutations, observer) {{\n",
       "        var display = window.getComputedStyle(gd).display;\n",
       "        if (!display || display === 'none') {{\n",
       "            console.log([gd, 'removed!']);\n",
       "            Plotly.purge(gd);\n",
       "            observer.disconnect();\n",
       "        }}\n",
       "}});\n",
       "\n",
       "// Listen for the removal of the full notebook cells\n",
       "var notebookContainer = gd.closest('#notebook-container');\n",
       "if (notebookContainer) {{\n",
       "    x.observe(notebookContainer, {childList: true});\n",
       "}}\n",
       "\n",
       "// Listen for the clearing of the current output cell\n",
       "var outputEl = gd.closest('.output');\n",
       "if (outputEl) {{\n",
       "    x.observe(outputEl, {childList: true});\n",
       "}}\n",
       "\n",
       "                        })                };                });            </script>        </div>"
      ]
     },
     "metadata": {},
     "output_type": "display_data"
    }
   ],
   "source": [
    "import plotly.graph_objects as go\n",
    "\n",
    "# Create the boxplot using Plotly\n",
    "fig = go.Figure()\n",
    "\n",
    "for category in industry_results.columns:\n",
    "    fig.add_trace(go.Box(\n",
    "        x=industry_results[category].values*100,\n",
    "        name=category,\n",
    "        # notched=True, # used notched shape\n",
    "        boxpoints='all',\n",
    "        # jitter=0.3,\n",
    "        marker=dict(size=2),\n",
    "        line=dict(width=1)\n",
    "        ))\n",
    "\n",
    "\n",
    "# Customize the chart\n",
    "fig.update_layout(\n",
    "    margin=dict(\n",
    "        l=40,\n",
    "        r=30,\n",
    "        b=80,\n",
    "        t=100,\n",
    "    ),\n",
    "    template='simple_white',\n",
    "    showlegend=False,\n",
    "    xaxis_title='Percentage',\n",
    "    yaxis_title='Categories',\n",
    "    height=600,\n",
    "    width=1200,\n",
    "    autosize=False,\n",
    ")\n",
    "\n",
    "fig.show()"
   ]
  },
  {
   "cell_type": "markdown",
   "metadata": {},
   "source": [
    "## Clustering"
   ]
  },
  {
   "cell_type": "code",
   "execution_count": 162,
   "metadata": {},
   "outputs": [],
   "source": [
    "from sklearn.cluster import KMeans\n",
    "from sklearn.decomposition import PCA\n",
    "\n",
    "import seaborn as sns\n",
    "# sns.set_style(\"white\")"
   ]
  },
  {
   "cell_type": "code",
   "execution_count": 163,
   "metadata": {},
   "outputs": [],
   "source": [
    "X_embedded = PCA(n_components=2).fit_transform(industry_results_perc.transpose())"
   ]
  },
  {
   "cell_type": "code",
   "execution_count": 164,
   "metadata": {},
   "outputs": [
    {
     "data": {
      "text/plain": [
       "array([[-0.02051651,  0.01420089],\n",
       "       [ 0.02543613,  0.00152305],\n",
       "       [-0.02999181,  0.01135568],\n",
       "       [ 0.03957146, -0.03267306],\n",
       "       [-0.01748703,  0.03824277],\n",
       "       [ 0.07104512, -0.04380358],\n",
       "       [-0.00818628,  0.00482902],\n",
       "       [ 0.01231207,  0.01286674],\n",
       "       [ 0.01976796, -0.00707751],\n",
       "       [-0.02341006,  0.01069298],\n",
       "       [ 0.02161835,  0.02037775],\n",
       "       [-0.11318669, -0.09662156],\n",
       "       [ 0.06386936,  0.0044258 ],\n",
       "       [ 0.03584731, -0.051083  ],\n",
       "       [-0.0189801 ,  0.00605313],\n",
       "       [ 0.01961912,  0.01808956],\n",
       "       [-0.01257984,  0.03361534],\n",
       "       [ 0.02679517, -0.0099267 ],\n",
       "       [-0.08189625,  0.03896202],\n",
       "       [-0.00964747,  0.02595068]])"
      ]
     },
     "execution_count": 164,
     "metadata": {},
     "output_type": "execute_result"
    }
   ],
   "source": [
    "X_embedded"
   ]
  },
  {
   "cell_type": "code",
   "execution_count": 165,
   "metadata": {},
   "outputs": [],
   "source": [
    "distortions = []\n",
    "K = range(1,10)\n",
    "for k in K:\n",
    "    kmeanModel = KMeans(n_clusters=k)\n",
    "    kmeanModel.fit(X_embedded)\n",
    "    distortions.append(kmeanModel.inertia_)"
   ]
  },
  {
   "cell_type": "code",
   "execution_count": 166,
   "metadata": {},
   "outputs": [
    {
     "data": {
      "image/png": "[encoded data removed]",
      "text/plain": [
       "<Figure size 400x400 with 1 Axes>"
      ]
     },
     "metadata": {},
     "output_type": "display_data"
    }
   ],
   "source": [
    "plt.figure(figsize=(4,4))\n",
    "plt.plot(K, distortions, 'bx-')\n",
    "plt.xlabel('Number of Clusters (k)')\n",
    "plt.ylabel('Sum of Squared Errors (SSE)')\n",
    "plt.xticks(K)\n",
    "plt.grid(color='gray', linestyle='-', linewidth=0.1)\n",
    "plt.show()"
   ]
  },
  {
   "cell_type": "code",
   "execution_count": 167,
   "metadata": {},
   "outputs": [],
   "source": [
    "cluster_count = 4\n",
    "\n",
    "kmeans = KMeans(n_clusters=cluster_count, verbose=False, init = 'k-means++', max_iter = 300, n_init = 10, random_state = 0)\n",
    "\n",
    "labels = kmeans.fit_predict(X_embedded)"
   ]
  },
  {
   "cell_type": "code",
   "execution_count": 168,
   "metadata": {},
   "outputs": [],
   "source": [
    "df_embedded = pd.DataFrame(X_embedded, columns=['pc_1', 'pc_2'])"
   ]
  },
  {
   "cell_type": "code",
   "execution_count": 169,
   "metadata": {},
   "outputs": [
    {
     "data": {
      "text/plain": [
       "Text(0, 0.5, 'pc_2')"
      ]
     },
     "execution_count": 169,
     "metadata": {},
     "output_type": "execute_result"
    },
    {
     "data": {
      "image/png": "[encoded data removed]",
      "text/plain": [
       "<Figure size 1500x800 with 1 Axes>"
      ]
     },
     "metadata": {},
     "output_type": "display_data"
    }
   ],
   "source": [
    "df_embedded['cluster'] = labels\n",
    "\n",
    "# get centroids\n",
    "centroids = kmeans.cluster_centers_\n",
    "cen_x = [i[0] for i in centroids]\n",
    "cen_y = [i[1] for i in centroids]\n",
    "\n",
    "# add to df\n",
    "df_embedded['cen_x'] = df_embedded.cluster.map({0:cen_x[0], 1:cen_x[1], 2:cen_x[2], 3:cen_x[3]})\n",
    "df_embedded['cen_y'] = df_embedded.cluster.map({0:cen_y[0], 1:cen_y[1], 2:cen_y[2], 3:cen_y[3]})\n",
    "\n",
    "# define and map colors\n",
    "colors = ['#DF2020', '#81DF20', '#2095DF', '#df2095']\n",
    "df_embedded['c'] = df_embedded.cluster.map({0:colors[0], 1:colors[1], 2:colors[2], 3:colors[3]})\n",
    "\n",
    "from matplotlib.lines import Line2D\n",
    "\n",
    "fig, ax = plt.subplots(1, figsize=(15,8))\n",
    "# plot data\n",
    "plt.scatter(df_embedded.pc_1, df_embedded.pc_2, c=df_embedded.c, alpha = 0.6, s=10)\n",
    "# plot centroids\n",
    "plt.scatter(cen_x, cen_y, marker='^', c=colors, s=70)\n",
    "\n",
    "for idx, val in df_embedded.iterrows():\n",
    "    x = [val.pc_1, val.cen_x,]\n",
    "    y = [val.pc_2, val.cen_y]\n",
    "    plt.plot(x, y, c=val.c, alpha=0.2)\n",
    "\n",
    "# create a list of legend elemntes\n",
    "# ## average line\n",
    "legend_elements = []#[Line2D([0], [0], color='black', lw=0.5, linestyle='--', label='Average')]\n",
    "## markers / records\n",
    "cluster_leg = [Line2D([0], [0], marker='o', color='w', label='Cluster {}'.format(i+1),\n",
    "            markerfacecolor=mcolor, markersize=5) for i, mcolor in enumerate(colors)]\n",
    "## centroids\n",
    "cent_leg = [Line2D([0], [0], marker='^', color='w', label='Centroid - C{}'.format(i+1),\n",
    "            markerfacecolor=mcolor, markersize=10) for i, mcolor in enumerate(colors)]\n",
    "\n",
    "# site_names = industry_results_perc.columns\n",
    "site_names = ['I-1', 'I-2', 'I-3', 'I-4', 'I-5', 'I-6', 'I-7', 'I-8', 'I-9', 'I-10', 'I-11', 'I-12', 'I-13', 'I-14', 'I-15', 'I-16', 'I-17', 'I-18', 'I-19', 'I-20']\n",
    "\n",
    "# plt.scatter(X_embedded[:, 0], X_embedded[:, 1], c=labels, label=site_names, s=300)\n",
    "for i, label in enumerate(site_names):\n",
    "    plt.annotate(label, (X_embedded[:, 0][i], X_embedded[:, 1][i]), fontsize=8, xytext=(5, 5), textcoords=\"offset pixels\")\n",
    "\n",
    "# plt.show()\n",
    "\n",
    "# add all elements to the same list\n",
    "legend_elements.extend(cluster_leg)\n",
    "legend_elements.extend(cent_leg)\n",
    "plt.grid(color='gray', linestyle='-', linewidth=0.1)\n",
    "plt.legend(handles=legend_elements, loc='upper right', ncol=2)\n",
    "# plt.title('Demand Clusters', fontsize=15)\n",
    "plt.xlabel('pc_1')\n",
    "plt.ylabel('pc_2')"
   ]
  },
  {
   "cell_type": "markdown",
   "metadata": {},
   "source": [
    "## Correlation"
   ]
  },
  {
   "cell_type": "code",
   "execution_count": 170,
   "metadata": {},
   "outputs": [
    {
     "data": {
      "text/html": [
       "<div>\n",
       "<style scoped>\n",
       "    .dataframe tbody tr th:only-of-type {\n",
       "        vertical-align: middle;\n",
       "    }\n",
       "\n",
       "    .dataframe tbody tr th {\n",
       "        vertical-align: top;\n",
       "    }\n",
       "\n",
       "    .dataframe thead th {\n",
       "        text-align: right;\n",
       "    }\n",
       "</style>\n",
       "<table border=\"1\" class=\"dataframe\">\n",
       "  <thead>\n",
       "    <tr style=\"text-align: right;\">\n",
       "      <th></th>\n",
       "      <th>Automated Workflows and Efficiency</th>\n",
       "      <th>Collaboration and Integration</th>\n",
       "      <th>Cultural Change and Adoption</th>\n",
       "      <th>Customized and Tailored Solutions</th>\n",
       "      <th>Data Accessibility and Self-Service</th>\n",
       "      <th>Real-time Data and Decision Making</th>\n",
       "      <th>Standardization and Governance</th>\n",
       "      <th>Training and Empowerment</th>\n",
       "    </tr>\n",
       "  </thead>\n",
       "  <tbody>\n",
       "    <tr>\n",
       "      <th>Automated Workflows and Efficiency</th>\n",
       "      <td>1.000000</td>\n",
       "      <td>0.107843</td>\n",
       "      <td>-0.393571</td>\n",
       "      <td>-0.140651</td>\n",
       "      <td>-0.480613</td>\n",
       "      <td>0.403976</td>\n",
       "      <td>-0.129675</td>\n",
       "      <td>-0.355786</td>\n",
       "    </tr>\n",
       "    <tr>\n",
       "      <th>Collaboration and Integration</th>\n",
       "      <td>0.107843</td>\n",
       "      <td>1.000000</td>\n",
       "      <td>-0.558069</td>\n",
       "      <td>0.392590</td>\n",
       "      <td>-0.349606</td>\n",
       "      <td>0.106276</td>\n",
       "      <td>0.135087</td>\n",
       "      <td>-0.401262</td>\n",
       "    </tr>\n",
       "    <tr>\n",
       "      <th>Cultural Change and Adoption</th>\n",
       "      <td>-0.393571</td>\n",
       "      <td>-0.558069</td>\n",
       "      <td>1.000000</td>\n",
       "      <td>-0.660408</td>\n",
       "      <td>0.323558</td>\n",
       "      <td>-0.245621</td>\n",
       "      <td>-0.182936</td>\n",
       "      <td>0.444855</td>\n",
       "    </tr>\n",
       "    <tr>\n",
       "      <th>Customized and Tailored Solutions</th>\n",
       "      <td>-0.140651</td>\n",
       "      <td>0.392590</td>\n",
       "      <td>-0.660408</td>\n",
       "      <td>1.000000</td>\n",
       "      <td>-0.214630</td>\n",
       "      <td>0.125488</td>\n",
       "      <td>-0.080095</td>\n",
       "      <td>-0.375121</td>\n",
       "    </tr>\n",
       "    <tr>\n",
       "      <th>Data Accessibility and Self-Service</th>\n",
       "      <td>-0.480613</td>\n",
       "      <td>-0.349606</td>\n",
       "      <td>0.323558</td>\n",
       "      <td>-0.214630</td>\n",
       "      <td>1.000000</td>\n",
       "      <td>-0.589886</td>\n",
       "      <td>-0.162339</td>\n",
       "      <td>0.085284</td>\n",
       "    </tr>\n",
       "    <tr>\n",
       "      <th>Real-time Data and Decision Making</th>\n",
       "      <td>0.403976</td>\n",
       "      <td>0.106276</td>\n",
       "      <td>-0.245621</td>\n",
       "      <td>0.125488</td>\n",
       "      <td>-0.589886</td>\n",
       "      <td>1.000000</td>\n",
       "      <td>-0.259235</td>\n",
       "      <td>-0.433536</td>\n",
       "    </tr>\n",
       "    <tr>\n",
       "      <th>Standardization and Governance</th>\n",
       "      <td>-0.129675</td>\n",
       "      <td>0.135087</td>\n",
       "      <td>-0.182936</td>\n",
       "      <td>-0.080095</td>\n",
       "      <td>-0.162339</td>\n",
       "      <td>-0.259235</td>\n",
       "      <td>1.000000</td>\n",
       "      <td>0.119597</td>\n",
       "    </tr>\n",
       "    <tr>\n",
       "      <th>Training and Empowerment</th>\n",
       "      <td>-0.355786</td>\n",
       "      <td>-0.401262</td>\n",
       "      <td>0.444855</td>\n",
       "      <td>-0.375121</td>\n",
       "      <td>0.085284</td>\n",
       "      <td>-0.433536</td>\n",
       "      <td>0.119597</td>\n",
       "      <td>1.000000</td>\n",
       "    </tr>\n",
       "  </tbody>\n",
       "</table>\n",
       "</div>"
      ],
      "text/plain": [
       "                                     Automated Workflows and Efficiency  \\\n",
       "Automated Workflows and Efficiency                             1.000000   \n",
       "Collaboration and Integration                                  0.107843   \n",
       "Cultural Change and Adoption                                  -0.393571   \n",
       "Customized and Tailored Solutions                             -0.140651   \n",
       "Data Accessibility and Self-Service                           -0.480613   \n",
       "Real-time Data and Decision Making                             0.403976   \n",
       "Standardization and Governance                                -0.129675   \n",
       "Training and Empowerment                                      -0.355786   \n",
       "\n",
       "                                     Collaboration and Integration  \\\n",
       "Automated Workflows and Efficiency                        0.107843   \n",
       "Collaboration and Integration                             1.000000   \n",
       "Cultural Change and Adoption                             -0.558069   \n",
       "Customized and Tailored Solutions                         0.392590   \n",
       "Data Accessibility and Self-Service                      -0.349606   \n",
       "Real-time Data and Decision Making                        0.106276   \n",
       "Standardization and Governance                            0.135087   \n",
       "Training and Empowerment                                 -0.401262   \n",
       "\n",
       "                                     Cultural Change and Adoption  \\\n",
       "Automated Workflows and Efficiency                      -0.393571   \n",
       "Collaboration and Integration                           -0.558069   \n",
       "Cultural Change and Adoption                             1.000000   \n",
       "Customized and Tailored Solutions                       -0.660408   \n",
       "Data Accessibility and Self-Service                      0.323558   \n",
       "Real-time Data and Decision Making                      -0.245621   \n",
       "Standardization and Governance                          -0.182936   \n",
       "Training and Empowerment                                 0.444855   \n",
       "\n",
       "                                     Customized and Tailored Solutions  \\\n",
       "Automated Workflows and Efficiency                           -0.140651   \n",
       "Collaboration and Integration                                 0.392590   \n",
       "Cultural Change and Adoption                                 -0.660408   \n",
       "Customized and Tailored Solutions                             1.000000   \n",
       "Data Accessibility and Self-Service                          -0.214630   \n",
       "Real-time Data and Decision Making                            0.125488   \n",
       "Standardization and Governance                               -0.080095   \n",
       "Training and Empowerment                                     -0.375121   \n",
       "\n",
       "                                     Data Accessibility and Self-Service  \\\n",
       "Automated Workflows and Efficiency                             -0.480613   \n",
       "Collaboration and Integration                                  -0.349606   \n",
       "Cultural Change and Adoption                                    0.323558   \n",
       "Customized and Tailored Solutions                              -0.214630   \n",
       "Data Accessibility and Self-Service                             1.000000   \n",
       "Real-time Data and Decision Making                             -0.589886   \n",
       "Standardization and Governance                                 -0.162339   \n",
       "Training and Empowerment                                        0.085284   \n",
       "\n",
       "                                     Real-time Data and Decision Making  \\\n",
       "Automated Workflows and Efficiency                             0.403976   \n",
       "Collaboration and Integration                                  0.106276   \n",
       "Cultural Change and Adoption                                  -0.245621   \n",
       "Customized and Tailored Solutions                              0.125488   \n",
       "Data Accessibility and Self-Service                           -0.589886   \n",
       "Real-time Data and Decision Making                             1.000000   \n",
       "Standardization and Governance                                -0.259235   \n",
       "Training and Empowerment                                      -0.433536   \n",
       "\n",
       "                                     Standardization and Governance  \\\n",
       "Automated Workflows and Efficiency                        -0.129675   \n",
       "Collaboration and Integration                              0.135087   \n",
       "Cultural Change and Adoption                              -0.182936   \n",
       "Customized and Tailored Solutions                         -0.080095   \n",
       "Data Accessibility and Self-Service                       -0.162339   \n",
       "Real-time Data and Decision Making                        -0.259235   \n",
       "Standardization and Governance                             1.000000   \n",
       "Training and Empowerment                                   0.119597   \n",
       "\n",
       "                                     Training and Empowerment  \n",
       "Automated Workflows and Efficiency                  -0.355786  \n",
       "Collaboration and Integration                       -0.401262  \n",
       "Cultural Change and Adoption                         0.444855  \n",
       "Customized and Tailored Solutions                   -0.375121  \n",
       "Data Accessibility and Self-Service                  0.085284  \n",
       "Real-time Data and Decision Making                  -0.433536  \n",
       "Standardization and Governance                       0.119597  \n",
       "Training and Empowerment                             1.000000  "
      ]
     },
     "execution_count": 170,
     "metadata": {},
     "output_type": "execute_result"
    }
   ],
   "source": [
    "industry_results_perc.transpose().corr()"
   ]
  },
  {
   "cell_type": "code",
   "execution_count": 171,
   "metadata": {},
   "outputs": [
    {
     "data": {
      "image/png": "[encoded data removed]",
      "text/plain": [
       "<Figure size 1000x800 with 2 Axes>"
      ]
     },
     "metadata": {},
     "output_type": "display_data"
    }
   ],
   "source": [
    "h_labels = [x.replace('_', ' ').title() for x in \n",
    "            list(industry_results_perc.transpose().select_dtypes(include=['number', 'bool']).columns.values)]\n",
    "\n",
    "\n",
    "# method ='pearson'\n",
    "# method ='kendall'\n",
    "# method ='spearman'\n",
    "\n",
    "fig, ax = plt.subplots(figsize=(10,8))\n",
    "_ = sns.heatmap(industry_results_perc.transpose().corr(method ='pearson'), annot=True, vmin=-1, vmax=1, xticklabels=h_labels, yticklabels=h_labels, cmap=sns.color_palette(\"vlag\", as_cmap=True), ax=ax, linewidth=.5, fmt=\".1f\")"
   ]
  },
  {
   "cell_type": "code",
   "execution_count": null,
   "metadata": {},
   "outputs": [],
   "source": []
  },
  {
   "cell_type": "markdown",
   "metadata": {},
   "source": [
    "## Deep Insight"
   ]
  },
  {
   "cell_type": "code",
   "execution_count": 1,
   "metadata": {},
   "outputs": [],
   "source": [
    "prompt_placeholder_deep = \"\"\"\n",
    "{story}\n",
    "**Objective:** Extract key insights from the customer testimonial about this company's Business Intelligence (BI) adoption and implementation process.\n",
    "\n",
    "**Guiding Questions:**\n",
    "1. **Social Responsibility Support:** How does the BI platform assist in promoting social responsibility, including features or analyses related to community engagement, diversity and inclusion, and ethical business practices?\n",
    "2. **Stakeholder Engagement:** What evidence is there of becoming a more attractive partner for clients/collaborators by being able to share insights or be transparent?\n",
    "\n",
    "**Instructions to the Model:**\n",
    "1. **Prioritize Accuracy:** Extract information directly from the text. Do not fabricate or \"hallucinate\" details.\n",
    "2. **Handle Missing Information:** It's possible the story has nothing related to the questions. So, if a topic is not mentioned in the testimonial, indicate \"Information not found\" in the corresponding JSON field.\n",
    "\n",
    "**Output:** Summarize the extracted information into JSON format with keys:\n",
    "- `social_responsibility`\n",
    "- `stakeholder_engagement`\n",
    "\n",
    "\"\"\""
   ]
  },
  {
   "cell_type": "code",
   "execution_count": 10,
   "metadata": {},
   "outputs": [],
   "source": [
    "with open('/home/ashkan/Code/testimonial_llm_analysis/data/data_final.json') as f:\n",
    "    stories = json.load(f)"
   ]
  },
  {
   "cell_type": "code",
   "execution_count": 11,
   "metadata": {},
   "outputs": [
    {
     "name": "stderr",
     "output_type": "stream",
     "text": [
      "Extracting: 100%|██████████| 2583/2583 [1:46:22<00:00,  2.47s/it]  \n"
     ]
    }
   ],
   "source": [
    "data_deep = collect_data(stories, prompt_placeholder_deep, client)  # Step 1\n",
    "\n"
   ]
  },
  {
   "cell_type": "code",
   "execution_count": 12,
   "metadata": {},
   "outputs": [],
   "source": [
    "json_data_deep = convert_to_json(data_deep)         # Step 2\n"
   ]
  },
  {
   "cell_type": "code",
   "execution_count": 14,
   "metadata": {},
   "outputs": [],
   "source": [
    "with open('results_deep.json', 'w') as f:\n",
    "    json.dump(json_data_deep, f)  "
   ]
  },
  {
   "cell_type": "code",
   "execution_count": null,
   "metadata": {},
   "outputs": [],
   "source": [
    "json_data_deep"
   ]
  }
 ],
 "metadata": {
  "kernelspec": {
   "display_name": "Python 3",
   "language": "python",
   "name": "python3"
  },
  "language_info": {
   "codemirror_mode": {
    "name": "ipython",
    "version": 3
   },
   "file_extension": ".py",
   "mimetype": "text/x-python",
   "name": "python",
   "nbconvert_exporter": "python",
   "pygments_lexer": "ipython3",
   "version": "3.12.1"
  }
 },
 "nbformat": 4,
 "nbformat_minor": 2
}
